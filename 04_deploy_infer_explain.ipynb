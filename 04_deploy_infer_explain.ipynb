{
 "cells": [
  {
   "cell_type": "markdown",
   "metadata": {},
   "source": [
    "<a id='04-nb'></a>\n",
    "\n",
    "# Music Recommender\n",
    "## Part 4: Deploy Model & Inference using Online Feature Store\n",
    "----\n",
    "In this notebook, we'll deploy our chosen model as an endpoint so that we can make predictions/inferences against it. Then we'll make music recommendations for a single user by inferencing against our model. We'll query our Feature Store to get some data to use for inferencing and show you how [SageMaker Clarify](https://docs.aws.amazon.com/sagemaker/latest/dg/clarify-model-explainability.html) can explain which features were most useful in making the recommended music predictions using SHAP values.\n",
    "\n",
    "Amazon SageMaker Clarify provides tools to help explain how machine learning models make predictions. These tools can help ML modelers and developers and other internal stakeholders understand model characteristics as a whole prior to deployment and to debug predictions provided by the model after it's deployed. Transparency about how ML models arrive at their predictions is also critical to consumers and regulators who need to trust the model predictions if they are going to accept the decisions based on them.\n",
    "\n",
    "----\n",
    "### Contents\n",
    "- [Overview](00_overview_arch_data.ipynb)\n",
    "- [Part 1: Data Prep using Data Wrangler](01_music_dataprep.flow)\n",
    "- [Part 2a: Feature Store Creation - Tracks](02a_export_fg_tracks.ipynb)\n",
    "- [Part 2b: Feature Store Creation - User Preferences](02b_export_fg_5star_features.ipynb)\n",
    "- [Part 2c: Feature Store Creation - Ratings](02c_fg_create_ratings.ipynb)\n",
    "- [Part 3: Train Model with Debugger Hooks. Set Artifacts and Register Model.](03_train_model_lineage_registry_debugger.ipynb)\n",
    "- [Part 4: Deploy Model & Inference using Online Feature Store](04_deploy_inference_explainability.ipynb)\n",
    "    - [Deploy model](#04-deploy)\n",
    "    - [Create predictor](#04-predictor)\n",
    "    - [Infer new songs](#04-infer)\n",
    "    - [Explain model predictions](#04-explain)\n",
    "- [Part 5: Model Monitor](05_model_monitor.ipynb)\n",
    "- [Part 6: SageMaker Pipelines](06_pipeline.ipynb)"
   ]
  },
  {
   "cell_type": "code",
   "execution_count": 6,
   "metadata": {},
   "outputs": [
    {
     "name": "stdout",
     "output_type": "stream",
     "text": [
      "/opt/conda/lib/python3.7/site-packages/secretstorage/dhcrypto.py:16: CryptographyDeprecationWarning: int_from_bytes is deprecated, use int.from_bytes instead\n",
      "  from cryptography.utils import int_from_bytes\n",
      "/opt/conda/lib/python3.7/site-packages/secretstorage/util.py:25: CryptographyDeprecationWarning: int_from_bytes is deprecated, use int.from_bytes instead\n",
      "  from cryptography.utils import int_from_bytes\n",
      "\u001b[33mWARNING: Running pip as root will break packages and permissions. You should install packages reliably by using venv: https://pip.pypa.io/warnings/venv\u001b[0m\n",
      "\u001b[33mWARNING: You are using pip version 21.1.1; however, version 21.1.2 is available.\n",
      "You should consider upgrading via the '/opt/conda/bin/python -m pip install --upgrade pip' command.\u001b[0m\n"
     ]
    }
   ],
   "source": [
    "try:\n",
    "    !pip install -qU awswrangler\n",
    "except ModuleNotFoundError:\n",
    "    !pip install --no-input awswrangler"
   ]
  },
  {
   "cell_type": "code",
   "execution_count": 7,
   "metadata": {},
   "outputs": [
    {
     "name": "stdout",
     "output_type": "stream",
     "text": [
      "/opt/conda/lib/python3.7/site-packages/secretstorage/dhcrypto.py:16: CryptographyDeprecationWarning: int_from_bytes is deprecated, use int.from_bytes instead\n",
      "  from cryptography.utils import int_from_bytes\n",
      "/opt/conda/lib/python3.7/site-packages/secretstorage/util.py:25: CryptographyDeprecationWarning: int_from_bytes is deprecated, use int.from_bytes instead\n",
      "  from cryptography.utils import int_from_bytes\n",
      "\u001b[33mWARNING: Running pip as root will break packages and permissions. You should install packages reliably by using venv: https://pip.pypa.io/warnings/venv\u001b[0m\n",
      "\u001b[33mWARNING: You are using pip version 21.1.1; however, version 21.1.2 is available.\n",
      "You should consider upgrading via the '/opt/conda/bin/python -m pip install --upgrade pip' command.\u001b[0m\n",
      "1.2.0\n"
     ]
    }
   ],
   "source": [
    "# update pandas to avoid data type issues in older 1.0 version\n",
    "!pip install -qU pandas==1.2.0\n",
    "import pandas as pd\n",
    "print(pd.__version__)"
   ]
  },
  {
   "cell_type": "code",
   "execution_count": 8,
   "metadata": {},
   "outputs": [],
   "source": [
    "import time\n",
    "import boto3\n",
    "import argparse\n",
    "import pathlib\n",
    "\n",
    "import sagemaker\n",
    "from sagemaker.feature_store.feature_group import FeatureGroup\n",
    "from sagemaker.estimator import Estimator\n",
    "import awswrangler as wr\n",
    "\n",
    "import os\n",
    "import json\n",
    "import matplotlib.pyplot as plt\n",
    "import numpy as np"
   ]
  },
  {
   "cell_type": "code",
   "execution_count": 12,
   "metadata": {},
   "outputs": [
    {
     "name": "stdout",
     "output_type": "stream",
     "text": [
      "Loading : \n",
      "\n",
      "{'music-rec': {'bucket': 'sagemaker-us-west-2-738335684114',\n",
      "               'dw_ecrlist': {'region': {'us-east-2': '415577184552',\n",
      "                                         'us-west-1': '926135532090',\n",
      "                                         'us-west-2': '174368400705'}},\n",
      "               'fg_name_ratings': 'ratings-feature-group-20-23-23-50',\n",
      "               'fg_name_tracks': 'track-features-20-21-27-19-43cfaf71',\n",
      "               'fg_name_user_preferences': 'user-5star-track-features-20-21-27-19-43cfaf71',\n",
      "               'flow_export_id': '20-21-27-19-43cfaf71',\n",
      "               'flow_s3_uri': 's3://sagemaker-us-west-2-738335684114/music-recommendation/data_wrangler_flows/flow-20-21-27-19-43cfaf71.flow',\n",
      "               'model_path': 's://sagemaker-us-west-2-738335684114/music-recommendation/model.tar.gz',\n",
      "               'prefix': 'music-recommendation',\n",
      "               'ratings_data_source': 's3://sagemaker-us-west-2-738335684114/music-recommendation/ratings.csv',\n",
      "               'tracks_data_source': 's3://sagemaker-us-west-2-738335684114/music-recommendation/tracks.csv',\n",
      "               'train_data_uri': 's3://sagemaker-us-west-2-738335684114/music-recommendation/data/train/train_data.csv',\n",
      "               'training_job_name': 'xgb-music-recommender-model-2021-06-20-23-38-34-113',\n",
      "               'val_data_uri': 's3://sagemaker-us-west-2-738335684114/music-recommendation/data/val/val_data.csv'}}\n",
      "Reading : music-rec\n",
      "\n",
      "{'music-rec': {'bucket': 'sagemaker-us-west-2-738335684114',\n",
      "               'dw_ecrlist': {'region': {'us-east-2': '415577184552',\n",
      "                                         'us-west-1': '926135532090',\n",
      "                                         'us-west-2': '174368400705'}},\n",
      "               'fg_name_ratings': 'ratings-feature-group-20-23-23-50',\n",
      "               'fg_name_tracks': 'track-features-20-21-27-19-43cfaf71',\n",
      "               'fg_name_user_preferences': 'user-5star-track-features-20-21-27-19-43cfaf71',\n",
      "               'flow_export_id': '20-21-27-19-43cfaf71',\n",
      "               'flow_s3_uri': 's3://sagemaker-us-west-2-738335684114/music-recommendation/data_wrangler_flows/flow-20-21-27-19-43cfaf71.flow',\n",
      "               'model_path': 's://sagemaker-us-west-2-738335684114/music-recommendation/model.tar.gz',\n",
      "               'prefix': 'music-recommendation',\n",
      "               'ratings_data_source': 's3://sagemaker-us-west-2-738335684114/music-recommendation/ratings.csv',\n",
      "               'tracks_data_source': 's3://sagemaker-us-west-2-738335684114/music-recommendation/tracks.csv',\n",
      "               'train_data_uri': 's3://sagemaker-us-west-2-738335684114/music-recommendation/data/train/train_data.csv',\n",
      "               'training_job_name': 'xgb-music-recommender-model-2021-06-20-23-38-34-113',\n",
      "               'val_data_uri': 's3://sagemaker-us-west-2-738335684114/music-recommendation/data/val/val_data.csv'}}\n",
      "{'bucket': 'sagemaker-us-west-2-738335684114',\n",
      " 'dw_ecrlist': {'region': {'us-east-2': '415577184552',\n",
      "                           'us-west-1': '926135532090',\n",
      "                           'us-west-2': '174368400705'}},\n",
      " 'fg_name_ratings': 'ratings-feature-group-20-23-23-50',\n",
      " 'fg_name_tracks': 'track-features-20-21-27-19-43cfaf71',\n",
      " 'fg_name_user_preferences': 'user-5star-track-features-20-21-27-19-43cfaf71',\n",
      " 'flow_export_id': '20-21-27-19-43cfaf71',\n",
      " 'flow_s3_uri': 's3://sagemaker-us-west-2-738335684114/music-recommendation/data_wrangler_flows/flow-20-21-27-19-43cfaf71.flow',\n",
      " 'model_path': 's://sagemaker-us-west-2-738335684114/music-recommendation/model.tar.gz',\n",
      " 'prefix': 'music-recommendation',\n",
      " 'ratings_data_source': 's3://sagemaker-us-west-2-738335684114/music-recommendation/ratings.csv',\n",
      " 'tracks_data_source': 's3://sagemaker-us-west-2-738335684114/music-recommendation/tracks.csv',\n",
      " 'train_data_uri': 's3://sagemaker-us-west-2-738335684114/music-recommendation/data/train/train_data.csv',\n",
      " 'training_job_name': 'xgb-music-recommender-model-2021-06-20-23-38-34-113',\n",
      " 'val_data_uri': 's3://sagemaker-us-west-2-738335684114/music-recommendation/data/val/val_data.csv'}\n"
     ]
    },
    {
     "ename": "KeyError",
     "evalue": "'model_name'",
     "output_type": "error",
     "traceback": [
      "\u001b[0;31m---------------------------------------------------------------------------\u001b[0m",
      "\u001b[0;31mKeyError\u001b[0m                                  Traceback (most recent call last)",
      "\u001b[0;32m<ipython-input-12-a55f6c7fefe8>\u001b[0m in \u001b[0;36m<module>\u001b[0;34m\u001b[0m\n\u001b[1;32m     19\u001b[0m \u001b[0mratings_data_source\u001b[0m \u001b[0;34m=\u001b[0m \u001b[0mparameter\u001b[0m\u001b[0;34m[\u001b[0m\u001b[0;34m'ratings_data_source'\u001b[0m\u001b[0;34m]\u001b[0m\u001b[0;34m\u001b[0m\u001b[0;34m\u001b[0m\u001b[0m\n\u001b[1;32m     20\u001b[0m \u001b[0mtracks_data_source\u001b[0m \u001b[0;34m=\u001b[0m \u001b[0mparameter\u001b[0m\u001b[0;34m[\u001b[0m\u001b[0;34m'tracks_data_source'\u001b[0m\u001b[0;34m]\u001b[0m\u001b[0;34m\u001b[0m\u001b[0;34m\u001b[0m\u001b[0m\n\u001b[0;32m---> 21\u001b[0;31m \u001b[0mmodel_name\u001b[0m \u001b[0;34m=\u001b[0m \u001b[0mparameter\u001b[0m\u001b[0;34m[\u001b[0m\u001b[0;34m'model_name'\u001b[0m\u001b[0;34m]\u001b[0m\u001b[0;34m\u001b[0m\u001b[0;34m\u001b[0m\u001b[0m\n\u001b[0m\u001b[1;32m     22\u001b[0m \"\"\"\n\u001b[1;32m     23\u001b[0m \u001b[0mendpoint_name\u001b[0m \u001b[0;34m=\u001b[0m \u001b[0mparameter\u001b[0m\u001b[0;34m[\u001b[0m\u001b[0;34m'endpoint_name'\u001b[0m\u001b[0;34m]\u001b[0m\u001b[0;34m\u001b[0m\u001b[0;34m\u001b[0m\u001b[0m\n",
      "\u001b[0;31mKeyError\u001b[0m: 'model_name'"
     ]
    }
   ],
   "source": [
    "import sys\n",
    "import pprint\n",
    "sys.path.insert(1, './code')\n",
    "from parameter_store import ParameterStore\n",
    "ps = ParameterStore()\n",
    "\n",
    "parameter = ps.read('music-rec')\n",
    "pprint.pprint(parameter)\n",
    "\n",
    "dw_ecrlist = parameter['dw_ecrlist']\n",
    "fg_name_ratings = parameter['fg_name_ratings']\n",
    "fg_name_tracks = parameter['fg_name_tracks']\n",
    "fg_name_user_preferences = parameter['fg_name_user_preferences']\n",
    "\n",
    "flow_export_id = parameter['flow_export_id']\n",
    "flow_s3_uri = parameter['flow_s3_uri']\n",
    "model_path = parameter['model_path']\n",
    "prefix = parameter['prefix']\n",
    "ratings_data_source = parameter['ratings_data_source']\n",
    "tracks_data_source = parameter['tracks_data_source']\n",
    "model_name = parameter['model_name']\n",
    "\"\"\"\n",
    "endpoint_name = parameter['endpoint_name']\n",
    "feature_names = parameter['feature_names']\n",
    "fs_name_ratings = parameter['fs_name_ratings']\n",
    "fs_name_tracks = parameter['fs_name_tracks']\n",
    "fs_name_user_preferences = parameter['fs_name_user_preferences']\n",
    "model_name = parameter['model_name']\n",
    "model_packages = parameter['model_packages']\n",
    "\n",
    "mpg_name = parameter['mpg_name']\n",
    "num_training_samples = parameter['num_training_samples']\n",
    "pipeline_name = parameter['pipeline_name']\n",
    "\n",
    "\n",
    "s3_output_path = parameter['s3_output_path']\n",
    "\n",
    "train_data_uri = parameter['train_data_uri']\n",
    "training_job_name = parameter['training_job_name']\n",
    "tuning_job_name = parameter['tuning_job_name']\n",
    "val_data_uri = parameter['val_data_uri']\n",
    "best_training_job_name = parameter['best_training_job_name']\n",
    "deploy_instance_type = parameter['deploy_instance_type']\n",
    "\"\"\""
   ]
  },
  {
   "cell_type": "code",
   "execution_count": 10,
   "metadata": {},
   "outputs": [],
   "source": [
    "sess = sagemaker.Session()\n",
    "bucket = sess.default_bucket()\n",
    "region = boto3.Session().region_name\n",
    "boto3.setup_default_session(region_name=region)\n",
    "\n",
    "s3_client = boto3.client('s3')\n",
    "account_id = boto3.client('sts').get_caller_identity()[\"Account\"]\n",
    "\n",
    "boto_session = boto3.Session(region_name=region)\n",
    "\n",
    "sagemaker_client = boto_session.client(service_name='sagemaker', region_name=region)\n",
    "\n",
    "sagemaker_session = sagemaker.session.Session(\n",
    "    boto_session=boto_session,\n",
    "    sagemaker_client=sagemaker_client\n",
    ")\n",
    "\n",
    "sagemaker_role = sagemaker.get_execution_role()"
   ]
  },
  {
   "cell_type": "markdown",
   "metadata": {},
   "source": [
    "<a id='04-deploy'></a>\n",
    "\n",
    "# Deploy Model\n",
    "##### [back to top](#04-nb)\n",
    "----"
   ]
  },
  {
   "cell_type": "code",
   "execution_count": 11,
   "metadata": {},
   "outputs": [
    {
     "ename": "NameError",
     "evalue": "name 'model_name' is not defined",
     "output_type": "error",
     "traceback": [
      "\u001b[0;31m---------------------------------------------------------------------------\u001b[0m",
      "\u001b[0;31mNameError\u001b[0m                                 Traceback (most recent call last)",
      "\u001b[0;32m<ipython-input-11-dcf97509089c>\u001b[0m in \u001b[0;36m<module>\u001b[0;34m\u001b[0m\n\u001b[1;32m      1\u001b[0m \u001b[0;32mimport\u001b[0m \u001b[0mdatetime\u001b[0m\u001b[0;34m\u001b[0m\u001b[0;34m\u001b[0m\u001b[0m\n\u001b[0;32m----> 2\u001b[0;31m \u001b[0mendpoint_name\u001b[0m \u001b[0;34m=\u001b[0m \u001b[0;34mf'{model_name}-{datetime.datetime.utcnow():%Y-%m-%d-%H%M}'\u001b[0m\u001b[0;34m\u001b[0m\u001b[0;34m\u001b[0m\u001b[0m\n\u001b[0m\u001b[1;32m      3\u001b[0m \u001b[0mprint\u001b[0m\u001b[0;34m(\u001b[0m\u001b[0mendpoint_name\u001b[0m\u001b[0;34m)\u001b[0m\u001b[0;34m\u001b[0m\u001b[0;34m\u001b[0m\u001b[0m\n\u001b[1;32m      4\u001b[0m \u001b[0;34m\u001b[0m\u001b[0m\n\u001b[1;32m      5\u001b[0m \u001b[0mps\u001b[0m\u001b[0;34m.\u001b[0m\u001b[0madd\u001b[0m\u001b[0;34m(\u001b[0m\u001b[0;34m{\u001b[0m\u001b[0;34m'endpoint_name'\u001b[0m\u001b[0;34m:\u001b[0m\u001b[0mendpoint_name\u001b[0m\u001b[0;34m}\u001b[0m\u001b[0;34m,\u001b[0m\u001b[0mnamespace\u001b[0m\u001b[0;34m=\u001b[0m\u001b[0;34m'music-rec'\u001b[0m\u001b[0;34m)\u001b[0m\u001b[0;34m\u001b[0m\u001b[0;34m\u001b[0m\u001b[0m\n",
      "\u001b[0;31mNameError\u001b[0m: name 'model_name' is not defined"
     ]
    }
   ],
   "source": [
    "import datetime\n",
    "endpoint_name = f'{model_name}-{datetime.datetime.utcnow():%Y-%m-%d-%H%M}'\n",
    "print(endpoint_name)\n",
    "\n",
    "ps.add({'endpoint_name':endpoint_name},namespace='music-rec')\n",
    "ps.store()"
   ]
  },
  {
   "cell_type": "code",
   "execution_count": 8,
   "metadata": {},
   "outputs": [
    {
     "name": "stdout",
     "output_type": "stream",
     "text": [
      "\n",
      "2021-06-14 21:31:17 Starting - Preparing the instances for training\n",
      "2021-06-14 21:31:17 Downloading - Downloading input data\n",
      "2021-06-14 21:31:17 Training - Training image download completed. Training in progress.\n",
      "2021-06-14 21:31:17 Uploading - Uploading generated training model\n",
      "2021-06-14 21:31:17 Completed - Training job completed\n"
     ]
    }
   ],
   "source": [
    "# if you want to use a pretrained model, set use_pretrained = True\n",
    "## else use_pretrained = False to use the model you trained in the previous notebook\n",
    "use_pretrained = False\n",
    "\n",
    "if use_pretrained:\n",
    "    # or use a pretrained model if you skipped model training in the last notebook\n",
    "    xgb_estimator = sagemaker.model.Model(\n",
    "        image_uri=sagemaker.image_uris.retrieve(\"xgboost\", region, \"0.90-2\"),\n",
    "        model_data=model_path,\n",
    "        role=sagemaker_role\n",
    "    )\n",
    "else:\n",
    "    # reinstantiate the estimator we trained in the previous notebook\n",
    "    xgb_estimator = Estimator.attach(training_job_name)\n"
   ]
  },
  {
   "cell_type": "code",
   "execution_count": 15,
   "metadata": {},
   "outputs": [
    {
     "data": {
      "text/plain": [
       "[{'EndpointName': 'music-recommendation-model-2021-05-06-2106',\n",
       "  'EndpointArn': 'arn:aws:sagemaker:us-east-2:645431112437:endpoint/music-recommendation-model-2021-05-06-2106',\n",
       "  'CreationTime': datetime.datetime(2021, 5, 6, 21, 6, 10, 820000, tzinfo=tzlocal()),\n",
       "  'LastModifiedTime': datetime.datetime(2021, 6, 9, 22, 16, 53, 489000, tzinfo=tzlocal()),\n",
       "  'EndpointStatus': 'InService'}]"
      ]
     },
     "execution_count": 15,
     "metadata": {},
     "output_type": "execute_result"
    }
   ],
   "source": [
    "endpoint_list = sagemaker_client.list_endpoints(\n",
    "    SortBy='CreationTime',\n",
    "    SortOrder='Descending',\n",
    "    NameContains=model_name,\n",
    "    StatusEquals='InService'\n",
    ")\n",
    "endpoint_list"
   ]
  },
  {
   "cell_type": "code",
   "execution_count": 18,
   "metadata": {},
   "outputs": [
    {
     "name": "stdout",
     "output_type": "stream",
     "text": [
      "Using existing endpoint: music-recommendation-model-2021-05-06-2106\n"
     ]
    }
   ],
   "source": [
    "if len(endpoint_list['Endpoints']) > 0:\n",
    "    print(f\"Using existing endpoint: {endpoint_list['Endpoints'][0]['EndpointName']}\")\n",
    "    \n",
    "else:\n",
    "    xgb_estimator.deploy(initial_instance_count=1,\n",
    "                         instance_type='ml.m4.xlarge',\n",
    "                         endpoint_name=endpoint_name,\n",
    "                         )"
   ]
  },
  {
   "cell_type": "code",
   "execution_count": 19,
   "metadata": {},
   "outputs": [],
   "source": [
    "model_package = sagemaker_client.list_model_packages(ModelPackageGroupName=mpg_name)['ModelPackageSummaryList'][0]\n",
    "model_package_update = {\n",
    "    'ModelPackageArn': model_package['ModelPackageArn'],\n",
    "    'ModelApprovalStatus': 'Approved'\n",
    "}\n",
    "\n",
    "update_response = sagemaker_client.update_model_package(**model_package_update)"
   ]
  },
  {
   "cell_type": "markdown",
   "metadata": {},
   "source": [
    "### Create endpoint config and endpoint\n",
    "Deploying the endpoint may take ~8min"
   ]
  },
  {
   "cell_type": "code",
   "execution_count": null,
   "metadata": {},
   "outputs": [],
   "source": [
    "endpoint_instance_count = 1\n",
    "endpoint_instance_type = \"ml.m4.xlarge\"\n",
    "\n",
    "endpoint_config_name=f'{model_name}-endpoint-config'\n",
    "existing_configs = sagemaker_client.list_endpoint_configs(NameContains=endpoint_config_name, MaxResults = 30)['EndpointConfigs']\n",
    "\n",
    "if not existing_configs:\n",
    "    create_ep_config_response = sagemaker_client.create_endpoint_config(\n",
    "        EndpointConfigName=endpoint_config_name,\n",
    "        ProductionVariants=[{\n",
    "            'InstanceType': endpoint_instance_type,\n",
    "            'InitialVariantWeight': 1,\n",
    "            'InitialInstanceCount': endpoint_instance_count,\n",
    "            'ModelName': model_name,\n",
    "            'VariantName': 'AllTraffic'\n",
    "        }]\n",
    "    )\n",
    "    print('Creating endpoint config')\n",
    "\n",
    "    ps.add({'endpoint_config_name':endpoint_config_name},namespace='music-rec')\n",
    "    ps.store()\n",
    "else:\n",
    "    print('Using existing endpoint config')"
   ]
  },
  {
   "cell_type": "code",
   "execution_count": null,
   "metadata": {},
   "outputs": [],
   "source": [
    "existing_endpoints = sagemaker_client.list_endpoints(NameContains=endpoint_name, MaxResults = 30)['Endpoints']\n",
    "if not existing_endpoints:\n",
    "    create_endpoint_response = sagemaker_client.create_endpoint(\n",
    "        EndpointName=endpoint_name,\n",
    "        EndpointConfigName=endpoint_config_name)\n",
    "    \n",
    "    ps.add({'endpoint_name':endpoint_name},namespace='music-rec')\n",
    "    ps.store()\n",
    "\n",
    "endpoint_info = sagemaker_client.describe_endpoint(EndpointName=endpoint_name)\n",
    "endpoint_status = endpoint_info['EndpointStatus']\n",
    "\n",
    "while endpoint_status == 'Creating':\n",
    "    endpoint_info = sagemaker_client.describe_endpoint(EndpointName=endpoint_name)\n",
    "    endpoint_status = endpoint_info['EndpointStatus']\n",
    "    print('Endpoint status:', endpoint_status)\n",
    "    if endpoint_status == 'Creating':\n",
    "        time.sleep(60)"
   ]
  },
  {
   "cell_type": "code",
   "execution_count": null,
   "metadata": {},
   "outputs": [],
   "source": [
    "featurestore_runtime = boto_session.client(service_name='sagemaker-featurestore-runtime', region_name=region)\n",
    "\n",
    "feature_store_session = sagemaker.Session(\n",
    "    boto_session=boto_session,\n",
    "    sagemaker_client=sagemaker_client,\n",
    "    sagemaker_featurestore_runtime_client=featurestore_runtime\n",
    ")"
   ]
  },
  {
   "cell_type": "code",
   "execution_count": null,
   "metadata": {},
   "outputs": [],
   "source": [
    "explainability_output_path = f's3://{bucket}/{prefix}/clarify-output/explainability'"
   ]
  },
  {
   "cell_type": "markdown",
   "metadata": {},
   "source": [
    "<a id='04-predictor'> </a>\n",
    "\n",
    "## Create a predictor\n",
    "##### [back to top](#04-nb)\n",
    "----"
   ]
  },
  {
   "cell_type": "code",
   "execution_count": null,
   "metadata": {},
   "outputs": [],
   "source": [
    "predictor = sagemaker.predictor.Predictor(\n",
    "    endpoint_name=endpoint_name,\n",
    "    sagemaker_session=sagemaker_session)"
   ]
  },
  {
   "cell_type": "markdown",
   "metadata": {},
   "source": [
    "### Pull user data from feature group"
   ]
  },
  {
   "cell_type": "code",
   "execution_count": null,
   "metadata": {},
   "outputs": [],
   "source": [
    "sample_user_id = 11005"
   ]
  },
  {
   "cell_type": "code",
   "execution_count": null,
   "metadata": {},
   "outputs": [],
   "source": [
    "# pull the sample user's 5 star preferences record from the feature store\n",
    "fg_response = featurestore_runtime.get_record(\n",
    "    FeatureGroupName=fg_name_user_preferences, \n",
    "    RecordIdentifierValueAsString=str(sample_user_id)\n",
    ")\n",
    "\n",
    "record = fg_response['Record']\n",
    "df_user = pd.DataFrame(record).set_index('FeatureName')"
   ]
  },
  {
   "cell_type": "markdown",
   "metadata": {},
   "source": [
    "### Pull sample of 1000 tracks from feature group"
   ]
  },
  {
   "cell_type": "code",
   "execution_count": null,
   "metadata": {},
   "outputs": [],
   "source": [
    "# pull a sample of the tracks data (multiple records) from the feature store using athena query\n",
    "fg_name_tracks_obj = FeatureGroup(name=fg_name_tracks, sagemaker_session=feature_store_session)\n",
    "tracks_query = fg_name_tracks_obj.athena_query()\n",
    "tracks_table = tracks_query.table_name\n",
    "\n",
    "# use escaped quotes aound table name since it contains '-' symbols\n",
    "query_string = (\"SELECT * FROM \\\"{}\\\" LIMIT 1000\".format(tracks_table))\n",
    "print(\"Running \" + query_string)\n",
    "\n",
    "# run Athena query. The output is loaded to a Pandas dataframe.\n",
    "tracks_query.run(query_string=query_string, output_location=f\"s3://{bucket}/{prefix}/query_results/\")\n",
    "tracks_query.wait()\n",
    "df_tracks = tracks_query.as_dataframe()"
   ]
  },
  {
   "cell_type": "code",
   "execution_count": null,
   "metadata": {},
   "outputs": [],
   "source": [
    "data = df_tracks.merge(pd.DataFrame(df_user['ValueAsString']).T, how='cross')\n",
    "data.columns = [c.lower() for c in data.columns]\n",
    "inference_df = data[feature_names]"
   ]
  },
  {
   "cell_type": "markdown",
   "metadata": {},
   "source": [
    "### Format the datapoint\n",
    "The datapoint must match the exact input format as the model was trained--with all features in the correct order. In this example, the `col_order` variable was saved when you created the train and test datasets earlier in the guide."
   ]
  },
  {
   "cell_type": "code",
   "execution_count": null,
   "metadata": {},
   "outputs": [],
   "source": [
    "data_inputs = [','.join([str(i) for i in row]) for row in inference_df.values]"
   ]
  },
  {
   "cell_type": "markdown",
   "metadata": {},
   "source": [
    "<a id='04-infer'> </a>\n",
    "\n",
    "## Infer (predict) new songs using model\n",
    "##### [back to top](#04-nb)\n",
    "----"
   ]
  },
  {
   "cell_type": "code",
   "execution_count": null,
   "metadata": {},
   "outputs": [],
   "source": [
    "predictions = []\n",
    "for data_input in data_inputs:\n",
    "    results = predictor.predict(data_input, initial_args = {\"ContentType\": \"text/csv\"})\n",
    "    prediction = json.loads(results)\n",
    "    predictions.append(prediction)\n",
    "print(f'Predicted rating for user {int(sample_user_id)}:', prediction)"
   ]
  },
  {
   "cell_type": "code",
   "execution_count": null,
   "metadata": {},
   "outputs": [],
   "source": [
    "# Write to csv in S3 without headers and index column.\n",
    "inference_df['rating'] = predictions\n",
    "inference_df = inference_df[['rating']+feature_names]\n",
    "inference_df.to_csv('data/prediction_data.csv', header=False, index=False)\n",
    "\n",
    "s3_client.upload_file('data/prediction_data.csv', bucket, f'{prefix}/data/pred/prediction_data.csv')\n",
    "\n",
    "pred_data_uri = f's3://{bucket}/{prefix}/data/pred/prediction_data.csv'"
   ]
  },
  {
   "cell_type": "code",
   "execution_count": null,
   "metadata": {},
   "outputs": [],
   "source": [
    "df_train = pd.read_csv(train_data_uri)\n",
    "\n",
    "label = 'rating'"
   ]
  },
  {
   "cell_type": "markdown",
   "metadata": {},
   "source": [
    "<a id='04-explain'> </a>\n",
    "\n",
    "## Explain model predictions\n",
    "##### [back to top](#04-nb)\n",
    "----"
   ]
  },
  {
   "cell_type": "code",
   "execution_count": null,
   "metadata": {},
   "outputs": [],
   "source": [
    "clarify_processor = sagemaker.clarify.SageMakerClarifyProcessor(\n",
    "    role=sagemaker_role,\n",
    "    instance_count=1,\n",
    "    instance_type='ml.c4.xlarge',\n",
    "    sagemaker_session=sagemaker_session)\n",
    "\n",
    "model_config = sagemaker.clarify.ModelConfig(\n",
    "    model_name=model_name,\n",
    "    instance_type='ml.m4.xlarge',\n",
    "    instance_count=1,\n",
    "    accept_type='text/csv')\n",
    "\n",
    "shap_config = sagemaker.clarify.SHAPConfig(\n",
    "    baseline=[df_train.median().values[1:].tolist()],  # ignore the first column since that is that target\n",
    "    num_samples=100,\n",
    "    agg_method='mean_abs')\n",
    "\n",
    "explainability_data_config = sagemaker.clarify.DataConfig(\n",
    "    s3_data_input_path=pred_data_uri,\n",
    "    s3_output_path=explainability_output_path,\n",
    "    label=label,\n",
    "    headers=[label]+feature_names,\n",
    "    dataset_type='text/csv')\n"
   ]
  },
  {
   "cell_type": "code",
   "execution_count": null,
   "metadata": {
    "scrolled": true
   },
   "outputs": [],
   "source": [
    "clarify_processor.run_explainability(\n",
    "    data_config=explainability_data_config,\n",
    "    model_config=model_config,\n",
    "    explainability_config=shap_config)\n",
    "\n",
    "clarify_expl_job_name = clarify_processor.latest_job.name"
   ]
  },
  {
   "cell_type": "code",
   "execution_count": null,
   "metadata": {},
   "outputs": [],
   "source": [
    "inference_df['trackid'] = data['trackid']"
   ]
  },
  {
   "cell_type": "code",
   "execution_count": null,
   "metadata": {},
   "outputs": [],
   "source": [
    "playlist_length = 10  # number of songs to recommend in playlist\n",
    "playlist = inference_df.sort_values(by='rating', ascending=False).head(playlist_length)\n",
    "print('Curated Playlist:\\n', playlist['trackid'])"
   ]
  },
  {
   "cell_type": "code",
   "execution_count": null,
   "metadata": {},
   "outputs": [],
   "source": [
    "local_explanations_out = pd.read_csv(explainability_output_path+'/explanations_shap/out.csv')\n",
    "local_explanations_out.columns = feature_names\n",
    "\n",
    "print(\"Model prediction:\", playlist.iloc[0, 0])\n",
    "plt.figure(figsize=(12,6))\n",
    "local_explanations_out.iloc[0].sort_values().plot.barh(title='Local explanation for prediction')"
   ]
  },
  {
   "cell_type": "code",
   "execution_count": null,
   "metadata": {},
   "outputs": [],
   "source": []
  }
 ],
 "metadata": {
  "kernelspec": {
   "display_name": "Python 3 (Data Science)",
   "language": "python",
   "name": "python3__SAGEMAKER_INTERNAL__arn:aws:sagemaker:us-west-2:236514542706:image/datascience-1.0"
  },
  "language_info": {
   "codemirror_mode": {
    "name": "ipython",
    "version": 3
   },
   "file_extension": ".py",
   "mimetype": "text/x-python",
   "name": "python",
   "nbconvert_exporter": "python",
   "pygments_lexer": "ipython3",
   "version": "3.7.10"
  }
 },
 "nbformat": 4,
 "nbformat_minor": 4
}
