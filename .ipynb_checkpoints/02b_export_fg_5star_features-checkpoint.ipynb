{
 "cells": [
  {
   "cell_type": "markdown",
   "metadata": {},
   "source": [
    "<a id='02b-nb'></a>\n",
    "\n",
    "# Music Recommender\n",
    "## Part 2b: Feature Store Creation - User Preferences\n",
    "----\n",
    "\n",
    "This notebook creates a feature group for our user music preference data to place in our feature store using the transformation instructions found in our `.flow` file.\n",
    "\n",
    "----\n",
    "### Contents\n",
    "- [Overview](00_overview_arch_data.ipynb)\n",
    "- [Part 2a: Feature Store Creation - Tracks](02a_export_fg_tracks.ipynb)\n",
    "- [Part 2b: Feature Store Creation - User Preferences](02b_export_fg_5star_features.ipynb)\n",
    "    - [Define Feature Group](#02b-define-fg)\n",
    "    - [Configure Feature Group](#02b-config-fg)\n",
    "    - [Initialize & Create Feature Group](#02b-init-create-fg)\n",
    "    - [Inputs and Outputs](#02b-input-output)\n",
    "    - [Run Processing Job](#02b-run-job)\n",
    "- [Part 2c: Feature Store Creation - Ratings](02c_fg_create_ratings.ipynb)\n",
    "- [Part 3: Train Model with Debugger Hooks. Set Artifacts and Register Model.](03_train_model_lineage_registry_debugger.ipynb)\n",
    "- [Part 4: Deploy Model & Inference using Online Feature Store](04_deploy_infer_explain.ipynb)\n",
    "- [Part 5: Model Monitor](05_model_monitor.ipynb)\n",
    "- [Part 6: SageMaker Pipelines](06_pipeline.ipynb)\n",
    "\n",
    "\n",
    "<div class=\"alert alert-info\"> 💡 <strong> Quick Start </strong>\n",
    "To save your processed data to feature store, <strong><a style=\"color: #0397a7 \" href=\"#Create-Feature-Group\">\n",
    "    <u>Click here to create a feature group</u></a> and follow the instruction to run a SageMaker processing job.\n",
    "</strong>\n",
    "</div>\n",
    "\n",
    "This notebook uses Amazon SageMaker Feature Store (Feature Store) to create a feature group, \n",
    "executes your Data Wrangler Flow `01_music_dataprep.flow` on the entire dataset using a SageMaker \n",
    "Processing Job and ingest processed data to Feature Store. \n"
   ]
  },
  {
   "cell_type": "code",
   "execution_count": 1,
   "metadata": {},
   "outputs": [
    {
     "name": "stdout",
     "output_type": "stream",
     "text": [
      "Stored variables and their in-db values:\n",
      "prefix             -> 'music-recommendation'\n"
     ]
    }
   ],
   "source": [
    "%store -r\n",
    "%store"
   ]
  },
  {
   "cell_type": "markdown",
   "metadata": {},
   "source": [
    "## Create Feature Group\n",
    "\n",
    "_What is a feature group_\n",
    "\n",
    "A single feature corresponds to a column in your dataset. A feature group is a predefined schema for a \n",
    "collection of features - each feature in the feature group has a specified data type and name. \n",
    "A single record in a feature group corresponds to a row in your dataframe. A feature store is a \n",
    "collection of feature groups. To learn more about SageMaker Feature Store, see \n",
    "[Amazon Feature Store Documentation](http://docs.aws.amazon.com/sagemaker/latest/dg/feature-store.html)."
   ]
  },
  {
   "cell_type": "markdown",
   "metadata": {},
   "source": [
    "<a id='02b-define-fg'></a>\n",
    "\n",
    "### Define Feature Group \n",
    "##### [back to top](#02b-nb)\n",
    "----\n",
    "Select Record identifier and Event time feature name. These are required parameters for feature group\n",
    "creation.\n",
    "* **Record identifier name** is the name of the feature defined in the feature group's feature definitions \n",
    "whose value uniquely identifies a Record defined in the feature group's feature definitions.\n",
    "* **Event time feature name** is the name of the EventTime feature of a Record in FeatureGroup. An EventTime \n",
    "is a timestamp that represents the point in time when a new event occurs that corresponds to the creation or \n",
    "update of a Record in the FeatureGroup. All Records in the FeatureGroup must have a corresponding EventTime.\n",
    "\n",
    "<div class=\"alert alert-info\"> 💡Record identifier and Event time feature name are required \n",
    "for feature group. After filling in the values, you can choose <b>Run Selected Cell and All Below</b> \n",
    "from the Run Menu from the menu bar. \n",
    "</div>"
   ]
  },
  {
   "cell_type": "code",
   "execution_count": 22,
   "metadata": {},
   "outputs": [
    {
     "name": "stdout",
     "output_type": "stream",
     "text": [
      "Loading : \n",
      "\n",
      "{'music-rec': {'bucket': 'sagemaker-us-west-2-738335684114',\n",
      "               'dw_ecrlist': {'region': {'us-east-2': '415577184552',\n",
      "                                         'us-west-1': '926135532090',\n",
      "                                         'us-west-2': '174368400705'}},\n",
      "               'fg_name_ratings': 'ratings-feature-group-20-23-23-50',\n",
      "               'fg_name_tracks': 'track-features-20-21-27-19-43cfaf71',\n",
      "               'fg_name_user_preferences': 'user-5star-track-features-20-21-27-19-43cfaf71',\n",
      "               'flow_export_id': '20-21-27-19-43cfaf71',\n",
      "               'flow_s3_uri': 's3://sagemaker-us-west-2-738335684114/music-recommendation/data_wrangler_flows/flow-20-21-27-19-43cfaf71.flow',\n",
      "               'model_path': 's://sagemaker-us-west-2-738335684114/music-recommendation/model.tar.gz',\n",
      "               'prefix': 'music-recommendation',\n",
      "               'ratings_data_source': 's3://sagemaker-us-west-2-738335684114/music-recommendation/ratings.csv',\n",
      "               'tracks_data_source': 's3://sagemaker-us-west-2-738335684114/music-recommendation/tracks.csv'}}\n",
      "Reading : music-rec\n",
      "\n",
      "{'music-rec': {'bucket': 'sagemaker-us-west-2-738335684114',\n",
      "               'dw_ecrlist': {'region': {'us-east-2': '415577184552',\n",
      "                                         'us-west-1': '926135532090',\n",
      "                                         'us-west-2': '174368400705'}},\n",
      "               'fg_name_ratings': 'ratings-feature-group-20-23-23-50',\n",
      "               'fg_name_tracks': 'track-features-20-21-27-19-43cfaf71',\n",
      "               'fg_name_user_preferences': 'user-5star-track-features-20-21-27-19-43cfaf71',\n",
      "               'flow_export_id': '20-21-27-19-43cfaf71',\n",
      "               'flow_s3_uri': 's3://sagemaker-us-west-2-738335684114/music-recommendation/data_wrangler_flows/flow-20-21-27-19-43cfaf71.flow',\n",
      "               'model_path': 's://sagemaker-us-west-2-738335684114/music-recommendation/model.tar.gz',\n",
      "               'prefix': 'music-recommendation',\n",
      "               'ratings_data_source': 's3://sagemaker-us-west-2-738335684114/music-recommendation/ratings.csv',\n",
      "               'tracks_data_source': 's3://sagemaker-us-west-2-738335684114/music-recommendation/tracks.csv'}}\n",
      "{'bucket': 'sagemaker-us-west-2-738335684114',\n",
      " 'dw_ecrlist': {'region': {'us-east-2': '415577184552',\n",
      "                           'us-west-1': '926135532090',\n",
      "                           'us-west-2': '174368400705'}},\n",
      " 'fg_name_tracks': 'track-features-20-21-27-19-43cfaf71',\n",
      " 'flow_export_id': '20-21-27-19-43cfaf71',\n",
      " 'flow_s3_uri': 's3://sagemaker-us-west-2-738335684114/music-recommendation/data_wrangler_flows/flow-20-21-27-19-43cfaf71.flow',\n",
      " 'model_path': 's://sagemaker-us-west-2-738335684114/music-recommendation/model.tar.gz',\n",
      " 'prefix': 'music-recommendation',\n",
      " 'ratings_data_source': 's3://sagemaker-us-west-2-738335684114/music-recommendation/ratings.csv',\n",
      " 'tracks_data_source': 's3://sagemaker-us-west-2-738335684114/music-recommendation/tracks.csv'}\n"
     ]
    },
    {
     "data": {
      "text/plain": [
       "\"\\ns3_output_path = parameter['s3_output_path']\\ntrain_data_uri = parameter['train_data_uri']\\ntraining_job_name = parameter['training_job_name']\\nval_data_uri = parameter['val_data_uri']\\nfg_name_ratings = parameter['fg_name_ratings']\\nfg_name_user_preferences = parameter['fg_name_user_preferences']\\n\""
      ]
     },
     "execution_count": 22,
     "metadata": {},
     "output_type": "execute_result"
    }
   ],
   "source": [
    "import sys\n",
    "import pprint\n",
    "sys.path.insert(1, './code')\n",
    "from parameter_store import ParameterStore\n",
    "ps = ParameterStore()\n",
    "\n",
    "parameter = ps.read('music-rec')\n",
    "pprint.pprint(parameters)\n",
    "\n",
    "dw_ecrlist = parameter['dw_ecrlist']\n",
    "fg_name_tracks = parameter['fg_name_tracks']\n",
    "flow_export_id = parameter['flow_export_id']\n",
    "flow_s3_uri = parameter['flow_s3_uri']\n",
    "model_path = parameter['model_path']\n",
    "prefix = parameter['prefix']\n",
    "ratings_data_source = parameter['ratings_data_source']\n",
    "tracks_data_source = parameter['tracks_data_source']\n",
    "\n",
    "\"\"\"\n",
    "s3_output_path = parameter['s3_output_path']\n",
    "train_data_uri = parameter['train_data_uri']\n",
    "training_job_name = parameter['training_job_name']\n",
    "val_data_uri = parameter['val_data_uri']\n",
    "fg_name_ratings = parameter['fg_name_ratings']\n",
    "fg_name_user_preferences = parameter['fg_name_user_preferences']\n",
    "\"\"\""
   ]
  },
  {
   "cell_type": "code",
   "execution_count": null,
   "metadata": {},
   "outputs": [],
   "source": []
  },
  {
   "cell_type": "code",
   "execution_count": 23,
   "metadata": {},
   "outputs": [],
   "source": [
    "record_identifier_feature_name = 'userId'\n",
    "if record_identifier_feature_name is None:\n",
    "   raise SystemExit(\"Select a column name as the feature group record identifier.\")\n",
    "\n",
    "event_time_feature_name = 'featureTimestamp'\n",
    "if event_time_feature_name is None:\n",
    "   raise SystemExit(\"Select a column name as the event time feature name.\")"
   ]
  },
  {
   "cell_type": "markdown",
   "metadata": {},
   "source": [
    "### Feature Definitions\n",
    "The following is a list of the feature names and feature types of the final dataset that will be produced \n",
    "when your data flow is used to process your input dataset. These are automatically generated from the \n",
    "step `Custom Pyspark` from `Source: Answers.Csv`. To save from a different step, go to Data Wrangler to \n",
    "select a new step to export.\n",
    "\n",
    "<div class=\"alert alert-info\"> 💡 <strong> Configurable Settings </strong>\n",
    "\n",
    "1. You can select a subset of the features. By default all columns of the result dataframe will be used as \n",
    "features.\n",
    "2. You can change the Data Wrangler data type to one of the Feature Store supported types \n",
    "(<b>Integral</b>, <b>Fractional</b>, or <b>String</b>). The default type is set to <b>String</b>. \n",
    "This means that, if a column in your dataset is not a <b>float</b> or <b>long</b> type, it will default \n",
    "to <b>String</b> in your Feature Store.\n",
    "\n",
    "For <b>Event Time</b> features, make sure the format follows the feature store\n",
    "<strong>\n",
    "    <a style=\"color: #0397a7 \" href=\"https://docs.aws.amazon.com/sagemaker/latest/dg/feature-store-quotas.html#feature-store-data-types\">\n",
    "    <u>Event Time feature format</u>\n",
    "    </a>\n",
    "</strong>\n",
    "</div>"
   ]
  },
  {
   "cell_type": "markdown",
   "metadata": {},
   "source": [
    "The following is a list of the feature names and data types of the final dataset that will be produced when your data flow is used to process your input dataset."
   ]
  },
  {
   "cell_type": "code",
   "execution_count": 24,
   "metadata": {},
   "outputs": [],
   "source": [
    "column_schemas = [\n",
    "    {\n",
    "        \"name\": \"userId\",\n",
    "        \"type\": \"long\"\n",
    "    },\n",
    "    {\n",
    "        \"name\": \"energy_5star\",\n",
    "        \"type\": \"float\"\n",
    "    },\n",
    "    {\n",
    "        \"name\": \"acousticness_5star\",\n",
    "        \"type\": \"float\"\n",
    "    },\n",
    "    {\n",
    "        \"name\": \"valence_5star\",\n",
    "        \"type\": \"float\"\n",
    "    },\n",
    "    {\n",
    "        \"name\": \"speechiness_5star\",\n",
    "        \"type\": \"float\"\n",
    "    },\n",
    "    {\n",
    "        \"name\": \"instrumentalness_5star\",\n",
    "        \"type\": \"float\"\n",
    "    },\n",
    "    {\n",
    "        \"name\": \"liveness_5star\",\n",
    "        \"type\": \"float\"\n",
    "    },\n",
    "    {\n",
    "        \"name\": \"tempo_5star\",\n",
    "        \"type\": \"float\"\n",
    "    },\n",
    "    {\n",
    "        \"name\": \"danceability_5star\",\n",
    "        \"type\": \"float\"\n",
    "    },\n",
    "    {\n",
    "        \"name\": \"genre_Latin_5star\",\n",
    "        \"type\": \"float\"\n",
    "    },\n",
    "    {\n",
    "        \"name\": \"genre_Folk_5star\",\n",
    "        \"type\": \"float\"\n",
    "    },\n",
    "    {\n",
    "        \"name\": \"genre_Blues_5star\",\n",
    "        \"type\": \"float\"\n",
    "    },\n",
    "    {\n",
    "        \"name\": \"genre_Rap_5star\",\n",
    "        \"type\": \"float\"\n",
    "    },\n",
    "    {\n",
    "        \"name\": \"genre_Reggae_5star\",\n",
    "        \"type\": \"float\"\n",
    "    },\n",
    "    {\n",
    "        \"name\": \"genre_Jazz_5star\",\n",
    "        \"type\": \"float\"\n",
    "    },\n",
    "    {\n",
    "        \"name\": \"genre_RnB_5star\",\n",
    "        \"type\": \"float\"\n",
    "    },\n",
    "    {\n",
    "        \"name\": \"genre_Country_5star\",\n",
    "        \"type\": \"float\"\n",
    "    },\n",
    "    {\n",
    "        \"name\": \"genre_Electronic_5star\",\n",
    "        \"type\": \"float\"\n",
    "    },\n",
    "    {\n",
    "        \"name\": \"genre_Pop_Rock_5star\",\n",
    "        \"type\": \"float\"\n",
    "    },\n",
    "    {\n",
    "        \"name\": \"featureTimestamp\",\n",
    "        \"type\": \"float\"\n",
    "    }\n",
    "]"
   ]
  },
  {
   "cell_type": "markdown",
   "metadata": {},
   "source": [
    "Below we create the SDK input for those feature definitions. Some schema types in Data Wrangler are not \n",
    "supported by Feature Store. The following will create a default_FG_type set to String for these types."
   ]
  },
  {
   "cell_type": "code",
   "execution_count": 25,
   "metadata": {},
   "outputs": [],
   "source": [
    "from sagemaker.feature_store.feature_definition import FeatureDefinition\n",
    "from sagemaker.feature_store.feature_definition import FeatureTypeEnum\n",
    "\n",
    "default_feature_type = FeatureTypeEnum.STRING\n",
    "column_to_feature_type_mapping = {\n",
    "    \"float\": FeatureTypeEnum.FRACTIONAL,\n",
    "    \"long\": FeatureTypeEnum.INTEGRAL\n",
    "}\n",
    "\n",
    "feature_definitions = [\n",
    "    FeatureDefinition(\n",
    "        feature_name=column_schema['name'], \n",
    "        feature_type=column_to_feature_type_mapping.get(column_schema['type'], default_feature_type)\n",
    "    ) for column_schema in column_schemas\n",
    "]"
   ]
  },
  {
   "cell_type": "markdown",
   "metadata": {},
   "source": [
    "<a id='02b-config-fg'></a>\n",
    "\n",
    "## Configure Feature Group\n",
    "##### [back to top](#02b-nb)\n",
    "----\n",
    "\n",
    "<div class=\"alert alert-info\"> 💡 <strong> Configurable Settings </strong>\n",
    "\n",
    "1. <b>feature_group_name</b>: name of the feature group.\n",
    "1. <b>feature_store_offline_s3_uri</b>: SageMaker FeatureStore writes the data in the OfflineStore of a FeatureGroup to a S3 location owned by you.\n",
    "1. <b>enable_online_store</b>: controls if online store is enabled. Enabling the online store allows quick access to the latest value for a Record via the GetRecord API.\n",
    "1. <b>iam_role</b>: IAM role for executing the processing job.\n",
    "</div>"
   ]
  },
  {
   "cell_type": "code",
   "execution_count": 8,
   "metadata": {},
   "outputs": [
    {
     "name": "stdout",
     "output_type": "stream",
     "text": [
      "Feature Group Name: user-5star-track-features-20-21-27-19-43cfaf71\n"
     ]
    }
   ],
   "source": [
    "from time import gmtime, strftime\n",
    "import sagemaker \n",
    "\n",
    "# Sagemaker session\n",
    "sess = sagemaker.Session()\n",
    "\n",
    "# You can configure this with your own bucket name, e.g.\n",
    "# bucket = <my-own-storage-bucket>\n",
    "bucket = sess.default_bucket()\n",
    "\n",
    "# IAM role for executing the processing job.\n",
    "iam_role = sagemaker.get_execution_role()\n",
    "\n",
    "# flow name and an unique ID for this export (used later as the processing job name for the export)\n",
    "flow_name = \"01_music_dataprep\"\n",
    "flow_export_name = f\"flow-{flow_export_id}\"\n",
    "\n",
    "# feature group name, with flow_name and an unique id. You can give it a customized name\n",
    "feature_group_name = f'user-5star-track-features-{flow_export_id}'\n",
    "print(f\"Feature Group Name: {feature_group_name}\")\n",
    "\n",
    "# SageMaker FeatureStore writes the data in the OfflineStore of a FeatureGroup to a \n",
    "# S3 location owned by you.\n",
    "feature_store_offline_s3_uri = 's3://' + bucket\n",
    "\n",
    "# controls if online store is enabled. Enabling the online store allows quick access to \n",
    "# the latest value for a Record via the GetRecord API.\n",
    "enable_online_store = True"
   ]
  },
  {
   "cell_type": "code",
   "execution_count": 9,
   "metadata": {},
   "outputs": [
    {
     "name": "stdout",
     "output_type": "stream",
     "text": [
      "Updating Params : \n",
      "\n",
      "{'fg_name_user_preferences': 'user-5star-track-features-20-21-27-19-43cfaf71'}\n",
      "Storing : \n",
      "\n",
      "{'music-rec': {'bucket': 'sagemaker-us-west-2-738335684114',\n",
      "               'dw_ecrlist': {'region': {'us-east-2': '415577184552',\n",
      "                                         'us-west-1': '926135532090',\n",
      "                                         'us-west-2': '174368400705'}},\n",
      "               'fg_name_tracks': 'track-features-20-21-27-19-43cfaf71',\n",
      "               'fg_name_user_preferences': 'user-5star-track-features-20-21-27-19-43cfaf71',\n",
      "               'flow_export_id': '20-21-27-19-43cfaf71',\n",
      "               'flow_s3_uri': 's3://sagemaker-us-west-2-738335684114/music-recommendation/data_wrangler_flows/flow-20-21-27-19-43cfaf71.flow',\n",
      "               'model_path': 's://sagemaker-us-west-2-738335684114/music-recommendation/model.tar.gz',\n",
      "               'prefix': 'music-recommendation',\n",
      "               'ratings_data_source': 's3://sagemaker-us-west-2-738335684114/music-recommendation/ratings.csv',\n",
      "               'tracks_data_source': 's3://sagemaker-us-west-2-738335684114/music-recommendation/tracks.csv'}}\n"
     ]
    }
   ],
   "source": [
    "fg_name_user_preferences = feature_group_name\n",
    "\n",
    "ps.add({'fg_name_user_preferences': fg_name_user_preferences}, namespace='music-rec')\n",
    "ps.store()\n"
   ]
  },
  {
   "cell_type": "markdown",
   "metadata": {},
   "source": [
    "<a id='02b-init-create-fg'></a>\n",
    "\n",
    "### Initialize & Create Feature Group\n",
    "##### [back to top](#02b-nb)\n",
    "----"
   ]
  },
  {
   "cell_type": "code",
   "execution_count": 10,
   "metadata": {},
   "outputs": [],
   "source": [
    "# Initialize Boto3 session that is required to create feature group\n",
    "import boto3\n",
    "from sagemaker.session import Session\n",
    "\n",
    "region = boto3.Session().region_name\n",
    "boto_session = boto3.Session(region_name=region)\n",
    "\n",
    "sagemaker_client = boto_session.client(service_name='sagemaker', region_name=region)\n",
    "featurestore_runtime = boto_session.client(service_name='sagemaker-featurestore-runtime', region_name=region)\n",
    "\n",
    "feature_store_session = Session(\n",
    "    boto_session=boto_session,\n",
    "    sagemaker_client=sagemaker_client,\n",
    "    sagemaker_featurestore_runtime_client=featurestore_runtime\n",
    ")"
   ]
  },
  {
   "cell_type": "markdown",
   "metadata": {},
   "source": [
    "Feature group is initialized and created below"
   ]
  },
  {
   "cell_type": "code",
   "execution_count": 11,
   "metadata": {},
   "outputs": [
    {
     "name": "stdout",
     "output_type": "stream",
     "text": [
      "Creating Feature Group user-5star-track-features-20-21-27-19-43cfaf71\n"
     ]
    }
   ],
   "source": [
    "from sagemaker.feature_store.feature_group import FeatureGroup\n",
    "\n",
    "feature_group = FeatureGroup(\n",
    "    name=feature_group_name, sagemaker_session=feature_store_session, feature_definitions=feature_definitions)\n",
    "\n",
    "# only create feature group if it doesn't already exist\n",
    "try:\n",
    "    sagemaker_client.describe_feature_group(FeatureGroupName=feature_group_name, NextToken='string')\n",
    "    print(\"Feature Group {0} already exists. Using {0}\".format(feature_group_name))\n",
    "except Exception as e:\n",
    "    error = e.response.get('Error').get('Code')\n",
    "    if error == \"ResourceNotFound\":\n",
    "        print(\"Creating Feature Group {}\".format(feature_group_name))\n",
    "        feature_group.create(\n",
    "            s3_uri=feature_store_offline_s3_uri,\n",
    "            record_identifier_name=record_identifier_feature_name,\n",
    "            event_time_feature_name=event_time_feature_name,\n",
    "            role_arn=iam_role,\n",
    "            enable_online_store=enable_online_store\n",
    "        )\n",
    "    if error == 'ResourceInUse':\n",
    "        print(\"Feature Group {0} already exists. Using {0}\".format(feature_group_name))"
   ]
  },
  {
   "cell_type": "markdown",
   "metadata": {},
   "source": [
    "Invoke the Feature Store API to create the feature group and wait until it is ready"
   ]
  },
  {
   "cell_type": "code",
   "execution_count": 12,
   "metadata": {},
   "outputs": [
    {
     "name": "stdout",
     "output_type": "stream",
     "text": [
      "Waiting for Feature Group Creation\n",
      "Waiting for Feature Group Creation\n",
      "Waiting for Feature Group Creation\n",
      "FeatureGroup user-5star-track-features-20-21-27-19-43cfaf71 successfully created.\n"
     ]
    }
   ],
   "source": [
    "import time\n",
    "def wait_for_feature_group_creation_complete(feature_group):\n",
    "    \"\"\"Helper function to wait for the completions of creating a feature group\"\"\"\n",
    "    status = feature_group.describe().get(\"FeatureGroupStatus\")\n",
    "    while status == \"Creating\":\n",
    "        print(\"Waiting for Feature Group Creation\")\n",
    "        time.sleep(5)\n",
    "        status = feature_group.describe().get(\"FeatureGroupStatus\")\n",
    "    if status != \"Created\":\n",
    "        raise SystemExit(f\"Failed to create feature group {feature_group.name}: {status}\")\n",
    "    print(f\"FeatureGroup {feature_group.name} successfully created.\")\n",
    "\n",
    "wait_for_feature_group_creation_complete(feature_group=feature_group)"
   ]
  },
  {
   "cell_type": "markdown",
   "metadata": {},
   "source": [
    "Now that the feature group is created, You will use a processing job to process your \n",
    "        data at scale and ingest the transformed data into this feature group."
   ]
  },
  {
   "cell_type": "markdown",
   "metadata": {},
   "source": [
    "<a id='02b-input-output'></a>\n",
    "\n",
    "## Inputs and Outputs\n",
    "##### [back to top](#02b-nb)\n",
    "----\n",
    "The below settings configure the inputs and outputs for the flow export.\n",
    "\n",
    "<div class=\"alert alert-info\"> 💡 <strong> Configurable Settings </strong>\n",
    "\n",
    "In <b>Input - Source</b> you can configure the data sources that will be used as input by Data Wrangler\n",
    "\n",
    "1. For S3 sources, configure the source attribute that points to the input S3 prefixes\n",
    "2. For all other sources, configure attributes like query_string, database in the source's \n",
    "<b>DatasetDefinition</b> object.\n",
    "\n",
    "If you modify the inputs the provided data must have the same schema and format as the data used in the Flow. \n",
    "You should also re-execute the cells in this section if you have modified the settings in any data sources.\n",
    "</div>"
   ]
  },
  {
   "cell_type": "code",
   "execution_count": 13,
   "metadata": {},
   "outputs": [],
   "source": [
    "from sagemaker.processing import ProcessingInput, ProcessingOutput\n",
    "from sagemaker.dataset_definition.inputs import AthenaDatasetDefinition, DatasetDefinition, RedshiftDatasetDefinition\n",
    "\n",
    "data_sources = []"
   ]
  },
  {
   "cell_type": "markdown",
   "metadata": {},
   "source": [
    "## Input - S3 Source: tracks.csv"
   ]
  },
  {
   "cell_type": "code",
   "execution_count": 14,
   "metadata": {},
   "outputs": [],
   "source": [
    "data_sources.append(ProcessingInput(\n",
    "    source=f\"{tracks_data_source}\", # You could override this to point to another dataset on S3\n",
    "    destination=\"/opt/ml/processing/tracks.csv\",\n",
    "    input_name=\"tracks.csv\",\n",
    "    s3_data_type=\"S3Prefix\",\n",
    "    s3_input_mode=\"File\",\n",
    "    s3_data_distribution_type=\"FullyReplicated\"\n",
    "))"
   ]
  },
  {
   "cell_type": "markdown",
   "metadata": {},
   "source": [
    "## Input - S3 Source: ratings.csv"
   ]
  },
  {
   "cell_type": "code",
   "execution_count": 15,
   "metadata": {},
   "outputs": [],
   "source": [
    "data_sources.append(ProcessingInput(\n",
    "    source=f\"{ratings_data_source}\", # You could override this to point to another dataset on S3\n",
    "    destination=\"/opt/ml/processing/ratings.csv\",\n",
    "    input_name=\"ratings.csv\",\n",
    "    s3_data_type=\"S3Prefix\",\n",
    "    s3_input_mode=\"File\",\n",
    "    s3_data_distribution_type=\"FullyReplicated\"\n",
    "))"
   ]
  },
  {
   "cell_type": "markdown",
   "metadata": {},
   "source": [
    "### Output: Feature Store \n",
    "Below are the inputs required by the SageMaker Python SDK to launch a processing job with feature store as an output. Notice the `output_name` variable below; this ID is found within the `.flow` file at the node point you want to capture transformations up to. The `.flow` file contains instructions for SageMaker Data Wrangler to know where to look for data and how to transform it. Each data transformation action is associated with a node and therefore a node ID. Using the associated node ID + output name tells SageMaker up to what point in the transformation process you want to export to a feature store."
   ]
  },
  {
   "cell_type": "code",
   "execution_count": 16,
   "metadata": {},
   "outputs": [],
   "source": [
    "from sagemaker.processing import FeatureStoreOutput\n",
    "\n",
    "# Output name is auto-generated from the select node's ID + output name from the flow file.\n",
    "output_name = \"3098f603-08d2-4319-83f5-55f509eeab60.default\"\n",
    "\n",
    "processing_job_output = ProcessingOutput(\n",
    "    output_name=output_name,\n",
    "    app_managed=True,\n",
    "    feature_store_output=FeatureStoreOutput(feature_group_name=feature_group_name),\n",
    ")"
   ]
  },
  {
   "cell_type": "markdown",
   "metadata": {},
   "source": [
    "We already uploaded our flow file in the previous notebook. Here the Data Wrangler Flow is also provided to the Processing Job as an input source which we configure below."
   ]
  },
  {
   "cell_type": "code",
   "execution_count": 17,
   "metadata": {},
   "outputs": [],
   "source": [
    "## Input - Flow: 01_music_dataprep.flow\n",
    "flow_input = ProcessingInput(\n",
    "    source=flow_s3_uri,\n",
    "    destination=\"/opt/ml/processing/flow\",\n",
    "    input_name=\"flow\",\n",
    "    s3_data_type=\"S3Prefix\",\n",
    "    s3_input_mode=\"File\",\n",
    "    s3_data_distribution_type=\"FullyReplicated\"\n",
    ")"
   ]
  },
  {
   "cell_type": "markdown",
   "metadata": {},
   "source": [
    "<a id='02b-run-job'></a>\n",
    "\n",
    "# Run Processing Job \n",
    "##### [back to top](#02b-nb)\n",
    "----\n",
    "## Job Configurations\n",
    "\n",
    "<div class=\"alert alert-info\"> 💡 <strong> Configurable Settings </strong>\n",
    "\n",
    "You can configure the following settings for Processing Jobs. If you change any configurations you will \n",
    "need to re-execute this and all cells below it by selecting the Run menu above and click \n",
    "<b>Run Selected Cells and All Below</b>\n",
    "\n",
    "1. IAM role for executing the processing job. \n",
    "2. A unique name of the processing job. Give a unique name every time you re-execute processing jobs\n",
    "3. Data Wrangler Container URL.\n",
    "4. Instance count, instance type and storage volume size in GB.\n",
    "5. Content type for each output. Data Wrangler supports CSV as default and Parquet.\n",
    "6. Network Isolation settings\n",
    "</div>"
   ]
  },
  {
   "cell_type": "code",
   "execution_count": 18,
   "metadata": {},
   "outputs": [
    {
     "name": "stdout",
     "output_type": "stream",
     "text": [
      "dw-flow-proc-music-rec-20-21-27-19-43cfaf71-bd59df0d\n"
     ]
    }
   ],
   "source": [
    "import uuid\n",
    "\n",
    "# Unique processing job name. Give a unique name every time you re-execute processing jobs\n",
    "#processing_job_name = \"data-wrangler-flow-processing-{}-{}\".format(flow_export_id, str(uuid.uuid4())[:8])\n",
    "\n",
    "processing_job_name = \"dw-flow-proc-music-rec-{}-{}\".format(flow_export_id,str(uuid.uuid4())[:8])\n",
    "print (f\"{processing_job_name}\")\n",
    "\n",
    "\n",
    "# Data Wrangler Container URL.\n",
    "container_uri = f\"{dw_ecrlist['region'][region]}.dkr.ecr.{region}.amazonaws.com/sagemaker-data-wrangler-container:1.x\"\n",
    "\n",
    "# Processing Job Instance count and instance type.\n",
    "instance_count = 2\n",
    "instance_type = \"ml.m5.4xlarge\"\n",
    "\n",
    "# Size in GB of the EBS volume to use for storing data during processing\n",
    "volume_size_in_gb = 30\n",
    "\n",
    "# Content type for each output. Data Wrangler supports CSV as default and Parquet.\n",
    "output_content_type = \"CSV\"\n",
    "\n",
    "# Network Isolation mode; default is off\n",
    "enable_network_isolation = False\n",
    "\n",
    "# Output configuration used as processing job container arguments \n",
    "output_config = {\n",
    "    output_name: {\n",
    "        \"content_type\": output_content_type\n",
    "    }\n",
    "}"
   ]
  },
  {
   "cell_type": "markdown",
   "metadata": {},
   "source": [
    "## Create Processing Job\n",
    "\n",
    "To launch a Processing Job, you will use the SageMaker Python SDK to create a Processor function."
   ]
  },
  {
   "cell_type": "code",
   "execution_count": 19,
   "metadata": {},
   "outputs": [
    {
     "name": "stdout",
     "output_type": "stream",
     "text": [
      "Creating Processing Job: dw-flow-proc-music-rec-20-21-27-19-43cfaf71-bd59df0d\n",
      "\n",
      "Job Name:  dw-flow-proc-music-rec-20-21-27-19-43cfaf71-bd59df0d\n",
      "Inputs:  [{'InputName': 'flow', 'AppManaged': False, 'S3Input': {'S3Uri': 's3://sagemaker-us-west-2-738335684114/music-recommendation/data_wrangler_flows/flow-20-21-27-19-43cfaf71.flow', 'LocalPath': '/opt/ml/processing/flow', 'S3DataType': 'S3Prefix', 'S3InputMode': 'File', 'S3DataDistributionType': 'FullyReplicated', 'S3CompressionType': 'None'}}, {'InputName': 'tracks.csv', 'AppManaged': False, 'S3Input': {'S3Uri': 's3://sagemaker-us-west-2-738335684114/music-recommendation/tracks.csv', 'LocalPath': '/opt/ml/processing/tracks.csv', 'S3DataType': 'S3Prefix', 'S3InputMode': 'File', 'S3DataDistributionType': 'FullyReplicated', 'S3CompressionType': 'None'}}, {'InputName': 'ratings.csv', 'AppManaged': False, 'S3Input': {'S3Uri': 's3://sagemaker-us-west-2-738335684114/music-recommendation/ratings.csv', 'LocalPath': '/opt/ml/processing/ratings.csv', 'S3DataType': 'S3Prefix', 'S3InputMode': 'File', 'S3DataDistributionType': 'FullyReplicated', 'S3CompressionType': 'None'}}]\n",
      "Outputs:  [{'OutputName': '3098f603-08d2-4319-83f5-55f509eeab60.default', 'AppManaged': True, 'FeatureStoreOutput': {'FeatureGroupName': 'user-5star-track-features-20-21-27-19-43cfaf71'}}]\n"
     ]
    }
   ],
   "source": [
    "from sagemaker.processing import Processor\n",
    "from sagemaker.network import NetworkConfig\n",
    "import json\n",
    "\n",
    "processor = Processor(\n",
    "    role=iam_role,\n",
    "    image_uri=container_uri,\n",
    "    instance_count=instance_count,\n",
    "    instance_type=instance_type,\n",
    "    volume_size_in_gb=volume_size_in_gb,\n",
    "    network_config=NetworkConfig(enable_network_isolation=enable_network_isolation),\n",
    "    sagemaker_session=sess\n",
    ")\n",
    "\n",
    "# Run Processing Job if job not already previously ran\n",
    "try:\n",
    "    sagemaker_client.describe_processing_job(ProcessingJobName=processing_job_name)\n",
    "    print(\"Processing Job {0} already exists. Using {0}\".format(processing_job_name))\n",
    "except Exception as e:\n",
    "    error = e.response.get('Error').get('Code')\n",
    "    if error == \"ValidationException\":\n",
    "        print(\"Creating Processing Job: {}\".format(processing_job_name))\n",
    "        processor.run(\n",
    "            inputs=[flow_input] + data_sources, \n",
    "            outputs=[processing_job_output],\n",
    "            arguments=[f\"--output-config '{json.dumps(output_config)}'\"],\n",
    "            wait=False,\n",
    "            logs=False,\n",
    "            job_name=processing_job_name\n",
    "        )\n",
    "    else:\n",
    "        raise(e)"
   ]
  },
  {
   "cell_type": "markdown",
   "metadata": {},
   "source": [
    "## Job Status & S3 Output Location\n",
    "\n",
    "Below you wait for processing job to finish. If it finishes successfully, your feature group should be populated \n",
    "with transformed feature values. In addition the raw parameters used by the Processing Job will be printed."
   ]
  },
  {
   "cell_type": "code",
   "execution_count": 20,
   "metadata": {
    "scrolled": true
   },
   "outputs": [
    {
     "name": "stdout",
     "output_type": "stream",
     "text": [
      "...................................................................!"
     ]
    },
    {
     "data": {
      "text/plain": [
       "{'ProcessingInputs': [{'InputName': 'flow',\n",
       "   'AppManaged': False,\n",
       "   'S3Input': {'S3Uri': 's3://sagemaker-us-west-2-738335684114/music-recommendation/data_wrangler_flows/flow-20-21-27-19-43cfaf71.flow',\n",
       "    'LocalPath': '/opt/ml/processing/flow',\n",
       "    'S3DataType': 'S3Prefix',\n",
       "    'S3InputMode': 'File',\n",
       "    'S3DataDistributionType': 'FullyReplicated',\n",
       "    'S3CompressionType': 'None'}},\n",
       "  {'InputName': 'tracks.csv',\n",
       "   'AppManaged': False,\n",
       "   'S3Input': {'S3Uri': 's3://sagemaker-us-west-2-738335684114/music-recommendation/tracks.csv',\n",
       "    'LocalPath': '/opt/ml/processing/tracks.csv',\n",
       "    'S3DataType': 'S3Prefix',\n",
       "    'S3InputMode': 'File',\n",
       "    'S3DataDistributionType': 'FullyReplicated',\n",
       "    'S3CompressionType': 'None'}},\n",
       "  {'InputName': 'ratings.csv',\n",
       "   'AppManaged': False,\n",
       "   'S3Input': {'S3Uri': 's3://sagemaker-us-west-2-738335684114/music-recommendation/ratings.csv',\n",
       "    'LocalPath': '/opt/ml/processing/ratings.csv',\n",
       "    'S3DataType': 'S3Prefix',\n",
       "    'S3InputMode': 'File',\n",
       "    'S3DataDistributionType': 'FullyReplicated',\n",
       "    'S3CompressionType': 'None'}}],\n",
       " 'ProcessingOutputConfig': {'Outputs': [{'OutputName': '3098f603-08d2-4319-83f5-55f509eeab60.default',\n",
       "    'FeatureStoreOutput': {'FeatureGroupName': 'user-5star-track-features-20-21-27-19-43cfaf71'},\n",
       "    'AppManaged': True}]},\n",
       " 'ProcessingJobName': 'dw-flow-proc-music-rec-20-21-27-19-43cfaf71-bd59df0d',\n",
       " 'ProcessingResources': {'ClusterConfig': {'InstanceCount': 2,\n",
       "   'InstanceType': 'ml.m5.4xlarge',\n",
       "   'VolumeSizeInGB': 30}},\n",
       " 'StoppingCondition': {'MaxRuntimeInSeconds': 86400},\n",
       " 'AppSpecification': {'ImageUri': '174368400705.dkr.ecr.us-west-2.amazonaws.com/sagemaker-data-wrangler-container:1.x',\n",
       "  'ContainerArguments': ['--output-config \\'{\"3098f603-08d2-4319-83f5-55f509eeab60.default\": {\"content_type\": \"CSV\"}}\\'']},\n",
       " 'NetworkConfig': {'EnableInterContainerTrafficEncryption': False,\n",
       "  'EnableNetworkIsolation': False},\n",
       " 'RoleArn': 'arn:aws:iam::738335684114:role/service-role/AmazonSageMaker-ExecutionRole-20201025T161024',\n",
       " 'ProcessingJobArn': 'arn:aws:sagemaker:us-west-2:738335684114:processing-job/dw-flow-proc-music-rec-20-21-27-19-43cfaf71-bd59df0d',\n",
       " 'ProcessingJobStatus': 'Completed',\n",
       " 'ProcessingEndTime': datetime.datetime(2021, 6, 20, 22, 40, 44, 347000, tzinfo=tzlocal()),\n",
       " 'ProcessingStartTime': datetime.datetime(2021, 6, 20, 22, 39, 20, 48000, tzinfo=tzlocal()),\n",
       " 'LastModifiedTime': datetime.datetime(2021, 6, 20, 22, 40, 44, 350000, tzinfo=tzlocal()),\n",
       " 'CreationTime': datetime.datetime(2021, 6, 20, 22, 35, 9, 750000, tzinfo=tzlocal()),\n",
       " 'ResponseMetadata': {'RequestId': 'ce3301be-d8de-4c76-b2a8-de385bcf04c8',\n",
       "  'HTTPStatusCode': 200,\n",
       "  'HTTPHeaders': {'x-amzn-requestid': 'ce3301be-d8de-4c76-b2a8-de385bcf04c8',\n",
       "   'content-type': 'application/x-amz-json-1.1',\n",
       "   'content-length': '2313',\n",
       "   'date': 'Sun, 20 Jun 2021 22:40:45 GMT'},\n",
       "  'RetryAttempts': 0}}"
      ]
     },
     "execution_count": 20,
     "metadata": {},
     "output_type": "execute_result"
    }
   ],
   "source": [
    "job_result = sess.wait_for_processing_job(processing_job_name)\n",
    "job_result"
   ]
  },
  {
   "cell_type": "code",
   "execution_count": 21,
   "metadata": {},
   "outputs": [
    {
     "name": "stdout",
     "output_type": "stream",
     "text": [
      "Storing : \n",
      "\n",
      "{'music-rec': {'bucket': 'sagemaker-us-west-2-738335684114',\n",
      "               'dw_ecrlist': {'region': {'us-east-2': '415577184552',\n",
      "                                         'us-west-1': '926135532090',\n",
      "                                         'us-west-2': '174368400705'}},\n",
      "               'fg_name_tracks': 'track-features-20-21-27-19-43cfaf71',\n",
      "               'fg_name_user_preferences': 'user-5star-track-features-20-21-27-19-43cfaf71',\n",
      "               'flow_export_id': '20-21-27-19-43cfaf71',\n",
      "               'flow_s3_uri': 's3://sagemaker-us-west-2-738335684114/music-recommendation/data_wrangler_flows/flow-20-21-27-19-43cfaf71.flow',\n",
      "               'model_path': 's://sagemaker-us-west-2-738335684114/music-recommendation/model.tar.gz',\n",
      "               'prefix': 'music-recommendation',\n",
      "               'ratings_data_source': 's3://sagemaker-us-west-2-738335684114/music-recommendation/ratings.csv',\n",
      "               'tracks_data_source': 's3://sagemaker-us-west-2-738335684114/music-recommendation/tracks.csv'}}\n"
     ]
    }
   ],
   "source": [
    "ps.store()"
   ]
  },
  {
   "cell_type": "markdown",
   "metadata": {},
   "source": [
    "You can view newly created feature group in Studio, refer to [Use Amazon SageMaker Feature Store with Amazon SageMaker Studio](https://docs.aws.amazon.com/sagemaker/latest/dg/feature-store-use-with-studio.html)\n",
    "for detailed guide.[Learn more about SageMaker Feature Store](https://github.com/aws/amazon-sagemaker-examples/tree/master/sagemaker-featurestore)"
   ]
  }
 ],
 "metadata": {
  "kernelspec": {
   "display_name": "Python 3 (Data Science)",
   "language": "python",
   "name": "python3__SAGEMAKER_INTERNAL__arn:aws:sagemaker:us-west-2:236514542706:image/datascience-1.0"
  },
  "language_info": {
   "codemirror_mode": {
    "name": "ipython",
    "version": 3
   },
   "file_extension": ".py",
   "mimetype": "text/x-python",
   "name": "python",
   "nbconvert_exporter": "python",
   "pygments_lexer": "ipython3",
   "version": "3.7.10"
  }
 },
 "nbformat": 4,
 "nbformat_minor": 4
}
