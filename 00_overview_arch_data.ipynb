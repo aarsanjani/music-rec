{
 "cells": [
  {
   "cell_type": "markdown",
   "metadata": {},
   "source": [
    "<a id='00-nb'></a>\n",
    "\n",
    "# Music Recommender\n",
    "\n",
    "## Overview\n",
    "----\n",
    "Welcome of the Music Recommender use-case with Amazon SageMaker. In this series of notebooks we will go through the ML Lifecycle and show how we can build a Music Recommender System using a combination of SageMaker Services and features. IN each phase, we will have relevant notebooks that show you how easy it is to implement that phase of the lifecycle.\n",
    "\n",
    "\n",
    "----\n",
    "### Contents\n",
    "- [Overview](00_overview_arch_data.ipynb)\n",
    "    - [Architecture](#arch-overview)\n",
    "    - [Get the Data](#get-the-data)\n",
    "    - [Update the data sources](#update-data-sources)\n",
    "    - [Explore the Data](#explore-data)\n",
    "- [Part 1: Data Prep using Data Wrangler](01_music_dataprep.flow)\n",
    "- [Part 2a: Feature Store Creation - Tracks](02a_export_fg_tracks.ipynb)\n",
    "- [Part 2b: Feature Store Creation - User Preferences](02b_export_fg_5star_features.ipynb)\n",
    "- [Part 2c: Feature Store Creation - Ratings](02c_fg_create_ratings.ipynb)\n",
    "- [Part 3: Train Model with Debugger Hooks. Set Artifacts and Register Model.](03_train_model_lineage_registry_debugger.ipynb)\n",
    "- [Part 4: Deploy Model & Inference using Online Feature Store](04_deploy_infer_explain.ipynb)\n",
    "- [Part 5: Model Monitor](05_model_monitor.ipynb)\n",
    "- [Part 6: SageMaker Pipelines](06_pipeline.ipynb)"
   ]
  },
  {
   "cell_type": "markdown",
   "metadata": {},
   "source": [
    "<a id ='arch-overview'></a>\n",
    "\n",
    "## Architecture\n",
    "\n",
    "Let's look at the overall solution architecure for this use case. We will start by doing each of these tasks within the exploratoyr phase of the ML Lifecycle, then when we are done with Experimentation and Trials, we can develop an automated pipeline such as the one depicted here to prepare data, deposit in feature store, train and tune the model, deposit it in the registry, then deploy it to a SageMaker hosted endpoint, and run Monitoring on it.\n",
    "\n",
    "##### [back to top](#00-nb)\n",
    "----\n",
    "\n",
    "![Solution Architecure](./images/music-rec.png)"
   ]
  },
  {
   "cell_type": "code",
   "execution_count": 1,
   "metadata": {},
   "outputs": [
    {
     "name": "stdout",
     "output_type": "stream",
     "text": [
      "Amit\n"
     ]
    }
   ],
   "source": [
    "print(\"Amit\")"
   ]
  },
  {
   "cell_type": "code",
   "execution_count": 2,
   "metadata": {},
   "outputs": [],
   "source": [
    "import sys\n",
    "import pprint\n",
    "sys.path.insert(1, './code')"
   ]
  },
  {
   "cell_type": "code",
   "execution_count": 3,
   "metadata": {},
   "outputs": [
    {
     "name": "stdout",
     "output_type": "stream",
     "text": [
      "Loading : \n",
      "\n"
     ]
    },
    {
     "ename": "NameError",
     "evalue": "name 'parameters' is not defined",
     "output_type": "error",
     "traceback": [
      "\u001b[0;31m---------------------------------------------------------------------------\u001b[0m",
      "\u001b[0;31mNameError\u001b[0m                                 Traceback (most recent call last)",
      "\u001b[0;32m<ipython-input-3-ec36056c1332>\u001b[0m in \u001b[0;36m<module>\u001b[0;34m\u001b[0m\n\u001b[1;32m      1\u001b[0m \u001b[0;32mfrom\u001b[0m \u001b[0mparameter_store\u001b[0m \u001b[0;32mimport\u001b[0m \u001b[0mParameterStore\u001b[0m\u001b[0;34m\u001b[0m\u001b[0;34m\u001b[0m\u001b[0m\n\u001b[0;32m----> 2\u001b[0;31m \u001b[0mps\u001b[0m \u001b[0;34m=\u001b[0m \u001b[0mParameterStore\u001b[0m\u001b[0;34m(\u001b[0m\u001b[0;34m)\u001b[0m\u001b[0;34m\u001b[0m\u001b[0;34m\u001b[0m\u001b[0m\n\u001b[0m\u001b[1;32m      3\u001b[0m \u001b[0mparameters\u001b[0m \u001b[0;34m=\u001b[0m \u001b[0mps\u001b[0m\u001b[0;34m.\u001b[0m\u001b[0mread\u001b[0m\u001b[0;34m(\u001b[0m\u001b[0;34m'music-rec'\u001b[0m\u001b[0;34m)\u001b[0m\u001b[0;34m\u001b[0m\u001b[0;34m\u001b[0m\u001b[0m\n\u001b[1;32m      4\u001b[0m \u001b[0mpprint\u001b[0m\u001b[0;34m.\u001b[0m\u001b[0mpprint\u001b[0m\u001b[0;34m(\u001b[0m\u001b[0mparameters\u001b[0m\u001b[0;34m)\u001b[0m\u001b[0;34m\u001b[0m\u001b[0;34m\u001b[0m\u001b[0m\n",
      "\u001b[0;32m~/music-rec2/code/parameter_store.py\u001b[0m in \u001b[0;36m__init__\u001b[0;34m(self, path, parameters, filename, verbose)\u001b[0m\n\u001b[1;32m     21\u001b[0m         \u001b[0;31m# If the file already exists, load up the params\u001b[0m\u001b[0;34m\u001b[0m\u001b[0;34m\u001b[0m\u001b[0;34m\u001b[0m\u001b[0m\n\u001b[1;32m     22\u001b[0m         \u001b[0;32mif\u001b[0m \u001b[0mos\u001b[0m\u001b[0;34m.\u001b[0m\u001b[0mpath\u001b[0m\u001b[0;34m.\u001b[0m\u001b[0mexists\u001b[0m\u001b[0;34m(\u001b[0m\u001b[0mself\u001b[0m\u001b[0;34m.\u001b[0m\u001b[0mfilename\u001b[0m\u001b[0;34m)\u001b[0m\u001b[0;34m:\u001b[0m\u001b[0;34m\u001b[0m\u001b[0;34m\u001b[0m\u001b[0m\n\u001b[0;32m---> 23\u001b[0;31m             \u001b[0mself\u001b[0m\u001b[0;34m.\u001b[0m\u001b[0mload\u001b[0m\u001b[0;34m(\u001b[0m\u001b[0;34m)\u001b[0m\u001b[0;34m\u001b[0m\u001b[0;34m\u001b[0m\u001b[0m\n\u001b[0m\u001b[1;32m     24\u001b[0m             \u001b[0mself\u001b[0m\u001b[0;34m.\u001b[0m\u001b[0mparameters\u001b[0m\u001b[0;34m.\u001b[0m\u001b[0mupdate\u001b[0m\u001b[0;34m(\u001b[0m\u001b[0mparameters\u001b[0m\u001b[0;34m)\u001b[0m\u001b[0;34m\u001b[0m\u001b[0;34m\u001b[0m\u001b[0m\n\u001b[1;32m     25\u001b[0m         \u001b[0;31m# Otherwise set params to be empty\u001b[0m\u001b[0;34m\u001b[0m\u001b[0;34m\u001b[0m\u001b[0;34m\u001b[0m\u001b[0m\n",
      "\u001b[0;32m~/music-rec2/code/parameter_store.py\u001b[0m in \u001b[0;36mload\u001b[0;34m(self)\u001b[0m\n\u001b[1;32m    126\u001b[0m         \u001b[0;32mif\u001b[0m \u001b[0mself\u001b[0m\u001b[0;34m.\u001b[0m\u001b[0mverbose\u001b[0m\u001b[0;34m:\u001b[0m\u001b[0;34m\u001b[0m\u001b[0;34m\u001b[0m\u001b[0m\n\u001b[1;32m    127\u001b[0m                 \u001b[0mprint\u001b[0m \u001b[0;34m(\u001b[0m\u001b[0;34mf\"Loading : \\n\"\u001b[0m\u001b[0;34m)\u001b[0m\u001b[0;34m\u001b[0m\u001b[0;34m\u001b[0m\u001b[0m\n\u001b[0;32m--> 128\u001b[0;31m                 \u001b[0mpprint\u001b[0m\u001b[0;34m.\u001b[0m\u001b[0mpprint\u001b[0m\u001b[0;34m(\u001b[0m\u001b[0mparameters\u001b[0m\u001b[0;34m)\u001b[0m\u001b[0;34m\u001b[0m\u001b[0;34m\u001b[0m\u001b[0m\n\u001b[0m\u001b[1;32m    129\u001b[0m \u001b[0;34m\u001b[0m\u001b[0m\n\u001b[1;32m    130\u001b[0m \u001b[0;34m\u001b[0m\u001b[0m\n",
      "\u001b[0;31mNameError\u001b[0m: name 'parameters' is not defined"
     ]
    }
   ],
   "source": [
    "\n",
    "from parameter_store import ParameterStore\n",
    "ps = ParameterStore()\n",
    "parameters = ps.read('music-rec')\n",
    "pprint.pprint(parameters)\n"
   ]
  },
  {
   "cell_type": "code",
   "execution_count": null,
   "metadata": {},
   "outputs": [],
   "source": [
    "# update pandas to avoid data type issues in older 1.0 version\n",
    "!pip install pandas --upgrade --quiet\n",
    "import pandas as pd\n",
    "print(pd.__version__)"
   ]
  },
  {
   "cell_type": "code",
   "execution_count": null,
   "metadata": {},
   "outputs": [],
   "source": []
  },
  {
   "cell_type": "code",
   "execution_count": 3,
   "metadata": {},
   "outputs": [
    {
     "name": "stdout",
     "output_type": "stream",
     "text": [
      "Creating : \n",
      "\n",
      "{'bucket': 'sagemaker-us-west-2-738335684114', 'prefix': 'music-recommendation'}\n",
      "Adding new Params : \n",
      "\n",
      "{'bucket': 'sagemaker-us-west-2-738335684114', 'prefix': 'music-recommendation'}\n",
      "this is your default SageMaker Studio bucket name: sagemaker-us-west-2-738335684114\n"
     ]
    }
   ],
   "source": [
    "import pandas as pd\n",
    "import matplotlib.pyplot as plt\n",
    "%matplotlib inline\n",
    "\n",
    "import json\n",
    "import sagemaker \n",
    "import boto3\n",
    "import os\n",
    "from awscli.customizations.s3.utils import split_s3_bucket_key\n",
    "\n",
    "# Sagemaker session\n",
    "sess = sagemaker.Session()\n",
    "# get session bucket name\n",
    "bucket = sess.default_bucket()\n",
    "# bucket prefix or the subfolder for everything we produce\n",
    "prefix='music-recommendation'\n",
    "\n",
    "ps.add({'bucket': bucket, 'prefix': prefix}, namespace='music-rec')\n",
    "\n",
    "# s3 client\n",
    "s3_client = boto3.client(\"s3\")\n",
    "\n",
    "print(f\"this is your default SageMaker Studio bucket name: {bucket}\")  "
   ]
  },
  {
   "cell_type": "code",
   "execution_count": 4,
   "metadata": {},
   "outputs": [
    {
     "name": "stdout",
     "output_type": "stream",
     "text": [
      "<class 'AttributeError'>\n",
      "(\"'ParameterStore' object has no attribute 'namespace'\",)\n",
      "'ParameterStore' object has no attribute 'namespace'\n"
     ]
    }
   ],
   "source": [
    "parameters = ps.read('music-rec')\n",
    "parameters"
   ]
  },
  {
   "cell_type": "code",
   "execution_count": 5,
   "metadata": {},
   "outputs": [],
   "source": [
    "def get_data(public_s3_data, to_bucket):\n",
    "    new_paths = []\n",
    "    for f in public_s3_data:\n",
    "        bucket_name, key_name = split_s3_bucket_key(f)\n",
    "        filename = f.split('/')[-1]\n",
    "        new_path = \"s3://{}/{}/{}\".format(to_bucket, prefix, filename)\n",
    "        new_paths.append(new_path)\n",
    "        \n",
    "        # only download if not already downloaded\n",
    "        if not os.path.exists('./{}'.format(filename)):\n",
    "            # download s3 data\n",
    "            print(\"Downloading file from {}\".format(f))\n",
    "            s3_client.download_file(bucket_name, key_name, './{}'.format(filename))\n",
    "\n",
    "        # upload s3 data to our default s3 bucket for SageMaker Studio\n",
    "        print(\"Uploading {} to {}\\n\".format(filename, new_path))\n",
    "        s3_client.upload_file('./{}'.format(filename), to_bucket, os.path.join(prefix,filename))\n",
    "        \n",
    "    return new_paths\n",
    "\n",
    "\n",
    "def get_model(model_path, to_bucket):\n",
    "    # upload model to our default s3 bucket for SageMaker Studio\n",
    "    filename = model_path.split('/')[-1]\n",
    "    print(\"Uploading {} to {}\\n\".format(model_path, os.path.join(to_bucket,prefix,filename)))\n",
    "    s3_client.upload_file(model_path, to_bucket, os.path.join(prefix,filename))\n",
    "    return \"s://{}\".format(os.path.join(to_bucket,prefix,filename))\n",
    "        \n",
    "\n",
    "def update_data_sources(flow_path, tracks_data_source, ratings_data_source):\n",
    "    with open(flow_path) as flowf:\n",
    "        flow = json.load(flowf)\n",
    "        \n",
    "    for node in flow['nodes']:\n",
    "        # if the key exists for our s3 endpoint\n",
    "        try:\n",
    "            if node['parameters']['dataset_definition']['name'] == 'tracks.csv':\n",
    "                # reset the s3 data source for tracks data\n",
    "                old_source = node['parameters']['dataset_definition']['s3ExecutionContext']['s3Uri']\n",
    "                print(\"Changed {} to {}\".format(old_source, tracks_data_source))\n",
    "                node['parameters']['dataset_definition']['s3ExecutionContext']['s3Uri'] = tracks_data_source\n",
    "            elif node['parameters']['dataset_definition']['name'] == 'ratings.csv':\n",
    "                # reset the s3 data source for ratings data\n",
    "                old_source = node['parameters']['dataset_definition']['s3ExecutionContext']['s3Uri']\n",
    "                print(\"Changed {} to {}\".format(old_source, ratings_data_source))\n",
    "                node['parameters']['dataset_definition']['s3ExecutionContext']['s3Uri'] = ratings_data_source\n",
    "        except:\n",
    "            continue\n",
    "    # write out the updated json flow file\n",
    "    with open(flow_path, 'w') as outfile:\n",
    "        json.dump(flow, outfile)\n",
    "    \n",
    "    return flow"
   ]
  },
  {
   "cell_type": "markdown",
   "metadata": {},
   "source": [
    "<a id='get-the-data'></a>\n",
    "\n",
    "## Prereqs: Get Data \n",
    "##### [back to top](#00-nb)\n",
    "----\n",
    "\n",
    "Here we will download the music data from a public S3 bucket that we'll be using for this demo and uploads it to your default S3 bucket that was created for you when you initially created a SageMaker Studio workspace. "
   ]
  },
  {
   "cell_type": "code",
   "execution_count": 6,
   "metadata": {},
   "outputs": [],
   "source": [
    "# public S3 bucket that contains our music data\n",
    "s3_bucket_music_data = \"s3://sagemaker-sample-files/datasets/tabular/synthetic-music\""
   ]
  },
  {
   "cell_type": "code",
   "execution_count": 7,
   "metadata": {},
   "outputs": [
    {
     "name": "stdout",
     "output_type": "stream",
     "text": [
      "Uploading tracks.csv to s3://sagemaker-us-west-2-738335684114/music-recommendation/tracks.csv\n",
      "\n",
      "Uploading ratings.csv to s3://sagemaker-us-west-2-738335684114/music-recommendation/ratings.csv\n",
      "\n",
      "['s3://sagemaker-us-west-2-738335684114/music-recommendation/tracks.csv', 's3://sagemaker-us-west-2-738335684114/music-recommendation/ratings.csv']\n"
     ]
    }
   ],
   "source": [
    "new_data_paths = get_data([f\"{s3_bucket_music_data}/tracks.csv\", f\"{s3_bucket_music_data}/ratings.csv\"], bucket)\n",
    "print(new_data_paths)"
   ]
  },
  {
   "cell_type": "code",
   "execution_count": 8,
   "metadata": {},
   "outputs": [
    {
     "name": "stdout",
     "output_type": "stream",
     "text": [
      "Updating Params : \n",
      "\n",
      "{'ratings_data_source': 's3://sagemaker-us-west-2-738335684114/music-recommendation/ratings.csv',\n",
      " 'tracks_data_source': 's3://sagemaker-us-west-2-738335684114/music-recommendation/tracks.csv'}\n"
     ]
    }
   ],
   "source": [
    "# these are the new file paths located on your SageMaker Studio default s3 storage bucket\n",
    "tracks_data_source = f's3://{bucket}/{prefix}/tracks.csv'\n",
    "ratings_data_source = f's3://{bucket}/{prefix}/ratings.csv'\n",
    "\n",
    "ps.add({'tracks_data_source': tracks_data_source, 'ratings_data_source': ratings_data_source}, namespace='music-rec')\n"
   ]
  },
  {
   "cell_type": "markdown",
   "metadata": {},
   "source": [
    "### Upload pretrained model"
   ]
  },
  {
   "cell_type": "code",
   "execution_count": 9,
   "metadata": {},
   "outputs": [
    {
     "name": "stdout",
     "output_type": "stream",
     "text": [
      "Uploading ./model/model.tar.gz to sagemaker-us-west-2-738335684114/music-recommendation/model.tar.gz\n",
      "\n",
      "Updating Params : \n",
      "\n",
      "{'model_path': 's://sagemaker-us-west-2-738335684114/music-recommendation/model.tar.gz'}\n"
     ]
    }
   ],
   "source": [
    "model_path = get_model('./model/model.tar.gz', bucket)\n",
    "\n",
    "ps.add({'model_path': model_path}, namespace='music-rec')\n"
   ]
  },
  {
   "cell_type": "markdown",
   "metadata": {},
   "source": [
    "<a id='update-data-sources'></a>\n",
    "\n",
    "## Update the data source in the `.flow` file\n",
    "##### [back to top](#00-nb)\n",
    "----\n",
    "The `01_music_datapred.flow` file is a JSON file containing instructions for where to find your data sources and how to transform the data. We'll be updating the object telling Data Wrangler where to find the input data on S3. We will set this to your default S3 bucket. With this update to the `.flow` file it now points to your new S3 bucket as the data source used by SageMaker Data Wrangler.\n",
    "\n",
    "Make sure the `.flow` file is closed before running this next step or it won't update the new s3 file locations in the file"
   ]
  },
  {
   "cell_type": "code",
   "execution_count": 10,
   "metadata": {
    "scrolled": true
   },
   "outputs": [
    {
     "name": "stdout",
     "output_type": "stream",
     "text": [
      "Changed s3://sagemaker-us-west-2-738335684114/music-recommendation/tracks.csv to s3://sagemaker-us-west-2-738335684114/music-recommendation/tracks.csv\n",
      "Changed s3://sagemaker-us-west-2-738335684114/music-recommendation/ratings.csv to s3://sagemaker-us-west-2-738335684114/music-recommendation/ratings.csv\n"
     ]
    },
    {
     "data": {
      "text/plain": [
       "{'metadata': {'version': 1, 'disable_limits': False},\n",
       " 'nodes': [{'node_id': '99823cc7-ddf7-4660-a279-efe1ab225ade',\n",
       "   'type': 'SOURCE',\n",
       "   'operator': 'sagemaker.s3_source_0.1',\n",
       "   'parameters': {'dataset_definition': {'__typename': 'S3CreateDatasetDefinitionOutput',\n",
       "     'datasetSourceType': 'S3',\n",
       "     'name': 'tracks.csv',\n",
       "     'description': None,\n",
       "     's3ExecutionContext': {'__typename': 'S3ExecutionContext',\n",
       "      's3Uri': 's3://sagemaker-us-west-2-738335684114/music-recommendation/tracks.csv',\n",
       "      's3ContentType': 'csv',\n",
       "      's3HasHeader': True}}},\n",
       "   'inputs': [],\n",
       "   'outputs': [{'name': 'default',\n",
       "     'sampling': {'sampling_method': 'sample_by_limit',\n",
       "      'limit_rows': 50000}}]},\n",
       "  {'node_id': '892bbc66-6a4e-459e-b659-40e386600927',\n",
       "   'type': 'TRANSFORM',\n",
       "   'operator': 'sagemaker.spark.infer_and_cast_type_0.1',\n",
       "   'parameters': {},\n",
       "   'trained_parameters': {'schema': {'trackId': 'string',\n",
       "     'length': 'float',\n",
       "     'energy': 'float',\n",
       "     'acousticness': 'float',\n",
       "     'valence': 'float',\n",
       "     'speechiness': 'float',\n",
       "     'instrumentalness': 'float',\n",
       "     'liveness': 'float',\n",
       "     'tempo': 'float',\n",
       "     'genre': 'string'}},\n",
       "   'inputs': [{'name': 'default',\n",
       "     'node_id': '99823cc7-ddf7-4660-a279-efe1ab225ade',\n",
       "     'output_name': 'default'}],\n",
       "   'outputs': [{'name': 'default'}]},\n",
       "  {'node_id': '4b9554f0-0503-47e0-b488-5969b66c8f6f',\n",
       "   'type': 'SOURCE',\n",
       "   'operator': 'sagemaker.s3_source_0.1',\n",
       "   'parameters': {'dataset_definition': {'__typename': 'S3CreateDatasetDefinitionOutput',\n",
       "     'datasetSourceType': 'S3',\n",
       "     'name': 'ratings.csv',\n",
       "     'description': None,\n",
       "     's3ExecutionContext': {'__typename': 'S3ExecutionContext',\n",
       "      's3Uri': 's3://sagemaker-us-west-2-738335684114/music-recommendation/ratings.csv',\n",
       "      's3ContentType': 'csv',\n",
       "      's3HasHeader': True}}},\n",
       "   'inputs': [],\n",
       "   'outputs': [{'name': 'default',\n",
       "     'sampling': {'sampling_method': 'sample_by_limit',\n",
       "      'limit_rows': 50000}}]},\n",
       "  {'node_id': '8b7e0be2-7b25-4c06-82eb-c0547efebf67',\n",
       "   'type': 'TRANSFORM',\n",
       "   'operator': 'sagemaker.spark.infer_and_cast_type_0.1',\n",
       "   'parameters': {},\n",
       "   'trained_parameters': {'schema': {'ratingEventId': 'string',\n",
       "     'ts': 'long',\n",
       "     'userId': 'long',\n",
       "     'trackId': 'string',\n",
       "     'sessionId': 'long',\n",
       "     'itemInSession': 'long',\n",
       "     'Rating': 'float'}},\n",
       "   'inputs': [{'name': 'default',\n",
       "     'node_id': '4b9554f0-0503-47e0-b488-5969b66c8f6f',\n",
       "     'output_name': 'default'}],\n",
       "   'outputs': [{'name': 'default'}]},\n",
       "  {'node_id': '3ac7d3cd-1867-42a5-a8d9-19b30488146f',\n",
       "   'type': 'TRANSFORM',\n",
       "   'operator': 'sagemaker.spark.encode_categorical_0.1',\n",
       "   'parameters': {'operator': 'One-hot encode',\n",
       "    'one_hot_encode_parameters': {'invalid_handling_strategy': 'Keep',\n",
       "     'drop_last': False,\n",
       "     'output_style': 'Columns',\n",
       "     'input_column': 'genre'},\n",
       "    'ordinal_encode_parameters': {'invalid_handling_strategy': 'Replace with NaN'}},\n",
       "   'trained_parameters': {'one_hot_encode_parameters': {'_hash': -1767228197713558300,\n",
       "     'string_indexer_model': 'P)h>@6aWAK2mmUio>E#z_GjJz003hF000vJ003=ebYWy+bYU-WVRCdWFfcGMFm;a0PQx$|MfZHhtW(PoO;frpn=Yy%f!IbPdy+==t798cs{A`9NC*&Y@7#0lTtOL(5jNm?5ExJ$NyLDB64r>GFl8q3n0R!<&S`oj-g`|3DoCTHn9v5;)T{b#T`$*CwryL%%s&&y(Ys>46;j9r+Bdh5h0CKZ;SXh}<%(+6=w&0DQYk#zJr?s7Mi+A0dQ+Hz98)>_oW8O|Hgw8=Jaj~-4ei_unt9?x6kw`AQ;*rChi}q2uOC<wKV1Tqa?f<m<kaP!qWZP*|F2#5+52Oim_5TZ-Mj-(O9KQH0000804k)OQY|cT)(!vw01N;C02lxO0BvP-VPs)+VJ|LlVRCdWFfcGMFfL<qV@obdW?*1oVo3ky9t8kUO9KQH0000804k)OQX{Pd9M%B<0LlUY07w7;0AyiwVJ~oDa&#>)FfcGMEjD3hI5{>qV=ZDfGBPbRH(@g^Vl^}}EjDB^FlAw4I5lB3I4xr^FfcB2Zeeh6c`k5aa&dKKbd6HcYTGarmDSh@T^=@wf(?EMhLjdOFP>8`343YB#wcTiu!q4IMYiSCM3!AiZb?i2VPCL^J(c~)eqj&$n8``HbsdAf$oHOeuCC6()1#S>0Q#Y!@0yD`sx**chhTqa#*R(>m{vpp0N9PLPW|TVE`X}&=nZwgD(IrAzAuW3NxrNVZ?MdmX1gc&>S{;z>Jme1J|y!wCi<gKxNIqKT9l`=B3|sO`Xwc?<OR#(dVIYOL5sd_ixTt2sff==ju8Zh(0o8~M5s9894`?>1~_b(4VnqLp__z~oG^KxLhb%<vJXHPTDE2HwQSV3`UbGx-@SJ|bSwU&L9pBDeu3T3aIf|JUOtwsas#MNrj|fpxu#k0xra-v40vlV-UZ<zE10PV-oP6G^WZOqIH#T}&MP84UR-)PkvPE;o8Po+M=nd^OdKJ36-&o;(u~kVIFk?84#Rm(-SMILjsDjh-ojfu@BV|WcV%p@;J9ECXH2}UD0L?41!VOPkf{bolxzUkxwW8ntyUjbz&zO+e4O*%Hj$q1`2)}I?MGEclina5C+RRqNSa2YQJOqUM`0KyVGxe}(eP;y4ANm3CF29jwpHR!RP0mr7ykrMO9KQH0000804k)OQmu1pZ4v+g01yBG08Ib@0AyiwVJ|LlVRCdWFfcGMFfBG=W;i)EH)AbgHZn3TG&f;0En+n^GA%Y_F)(FeVmLKnG&n6|FfcGKb8ca9aCt6pVRCVGWpplMa$`#_N@ieSU}BiX)8KL5b5A}1P)h*<6ay3h000O8Dx{uLT1WP0-T(jqV*vmF6951J0000000000q=5hc003=ebYWy+bYU-WVRCdWFfcGMFi=YY0u%!j0000804k)OQY|cT)(!vw01N;C02lxO00000000000HlEr0RRAPWprU=VRT_HE^uLTbS*G2FfcGKV{&6qO928D0~7!N00;moq@GeEtpps_0RRBX0ssI=00000000000001_fl~nh0AyiwVJ~oDa&#>)FfcGMEjD3hI5{>qV=ZDfGBPbRH(@g^Vl^}}EjDB^FlAw4I5lB3I4xr^FfcB2Zeeh6c`k5aa&dKKbWlqH0u%!j0000804k)OQmu1pZ4v+g01yBG08Ib@00000000000HlGB0{{SIVRT_HE^uLTbS*G2FfcGJHeqHsIW{+AEn+q@GA%SWVKXgaH8e6UHe@j{Wnp4CHDNS3En_e+FfMa$VQ_GHE^uLTadl;ME@N_IP)h{{000001ONm8cmV(a3<LlG000',\n",
       "     'one_hot_encoder_model': 'P)h>@6aWAK2mmUio>Jtu8-&vU003zL000vJ003=ebYWy+bYU-WVRCdWFfcGMFm;Z*P6IIzMSDJD>WyXZ@<_HtNFWhGMQe?`vt)%|8ru{^`FDmOkWy^p;`-im<_OMXDKJ9fcZC_<fmF%JA1Zh?6V}G0ULrlF`Vd{3i1+e%=%6lvO2v?2G`D8AHP>6McZ2TWyniDuONv4slva9!;VW*m?AkI(c!9L$W-xbCuU&6?smLC~9))~_)M{?^K6x40N+Da9y!`<!@&Ds5mvrKkpRrUJXY_?SIAEMSJ;hJ-XEQM;hLbdD#^&qmifsKtYkzwew#sc?cDnioP)h>@6aWAK2mmUio>D&k<ckgf000aC000;O003=ebYWy+bYU+paA9(EEif=JFfcA-a$`#_N@ieSU}9*I-u?stP)h>@6aWAK2mmUio>Kc&^R9vc001xo002k;003lRbYU-WVRCdWFfcGMFfBG=H#ucAWi>51G-EX_G-5P2En;CZW-VhhH8x^1G-Y8iIA$$lFfcGKb8ca9aCt6pVRCVGWpsT~U2EGg6jih=Ev$X$gNzJ*2!e(bTw%|N>x4eEZ)J>8*1nZelvwJ_WIK_RjWiAHXY>d5hxF#7Wo0l4F8AY{d(RcRJpUdOL>TFW1cTEet$;Q^A%r&8L*2h3I0t7K><74DF<NB__P<{2*@-Ye@9g-8ECs=+kLmtcIC)>2`Bm{CEwpc;ev>wJVI2SnK16g!YFWz4ArJe3A9QvDXm;2_e)gWcCcT0Q_OSQp{b_V|PyeIU4`3e{v#LCL82KTkwYleFB0wZx>*c?su|-|cj|q=>gy_*f2s_mroaszDZtCB>luqQr3HsDnFgKq_He}YB+1Rm=sY2@9vf<5wRia##-mL+M4daa|j1hB4Z&$nCWQz(&(m;M(S56d_{WjB@4VBPVE<;v9Bt{ybFj$7{RTDH`E^n8Je%UHME=_y8Vmsz>#N&2%G%Ix8j?^Gmy(E`Pjj~MTCn`(RG*6Rs5NEy5NfN1EI?4w}eh|P5J~t4$gun6vP)h>@6aWAK2mmUio>I(v8uk(Z000mG002z@003lRbYU+paA9(EEif=JFfc7PVK+HtG-Wj{IW%K6Ei_^@H!WgeGG;AfG&MG2Gc;vkF*s%|V=yo<E^}^SaBz7paA9(Bb!BueV{&6lE=p!#U|?eC?BwG;_s_}<08mQ-0u%!j0000804k)OQslQAgwp^30BHdL022TJ00000000000HlEc0001OWprU=VRT_HaA9(EEif=JFfdR{0Rj{Q6aWAK2mmUio>D&k<ckgf000aC000;O0000000000005+c1OWg5ZDn*}WMOn+FD`Ila&#>)FfcGME@N_IP)h*<6ay3h000O8Dx{uL`&IL<f&l;kFaiJoNB{r;0000000000q=85Q003lRbYU-WVRCdWFfcGMFfBG=H#ucAWi>51G-EX_G-5P2En;CZW-VhhH8x^1G-Y8iIA$$lFfcGKb8ca9aCt6pVRCVGWpq$W0Rj{Q6aWAK2mmUio>I(v8uk(Z000mG002z@0000000000005+cFarPpWMOn+FD`Ila&#>)FfcGMEjD2{Ib}3uH7z+bV>K-_Vl+1`Vqr37En_q_Hexe0WnnQmW-VhdFfcB2Zeeh6c`k5aa&dKKbS`6ZV^B*41^@s600aO80C)ia0IdT60000'}},\n",
       "   'inputs': [{'name': 'df',\n",
       "     'node_id': '892bbc66-6a4e-459e-b659-40e386600927',\n",
       "     'output_name': 'default'}],\n",
       "   'outputs': [{'name': 'default'}]},\n",
       "  {'node_id': 'fcf55a1d-8b85-4d7e-8232-9483de08f5fd',\n",
       "   'type': 'TRANSFORM',\n",
       "   'operator': 'sagemaker.spark.custom_pyspark_0.1',\n",
       "   'parameters': {'code': \"# Table is available as variable `df`\\nfrom pyspark.sql import functions as F\\ndf = df.withColumn('featureTimestamp', F.unix_timestamp(F.current_timestamp()))\"},\n",
       "   'inputs': [{'name': 'df',\n",
       "     'node_id': '3ac7d3cd-1867-42a5-a8d9-19b30488146f',\n",
       "     'output_name': 'default'}],\n",
       "   'outputs': [{'name': 'default'}]},\n",
       "  {'node_id': '0841cef9-03b3-4dc8-bc01-9360e7d7f36e',\n",
       "   'type': 'TRANSFORM',\n",
       "   'operator': 'sagemaker.spark.cast_single_data_type_0.1',\n",
       "   'parameters': {'column': 'featureTimestamp',\n",
       "    'original_data_type': 'Long',\n",
       "    'data_type': 'float'},\n",
       "   'inputs': [{'name': 'df',\n",
       "     'node_id': 'fcf55a1d-8b85-4d7e-8232-9483de08f5fd',\n",
       "     'output_name': 'default'}],\n",
       "   'outputs': [{'name': 'default'}]},\n",
       "  {'node_id': 'd0d4f05a-3031-4438-867b-c5fd033d6c15',\n",
       "   'type': 'TRANSFORM',\n",
       "   'operator': 'sagemaker.spark.custom_formula_0.1',\n",
       "   'parameters': {'output_column': 'danceability',\n",
       "    'formula': '0.3*valence + 0.1*liveness + 0.1*energy'},\n",
       "   'inputs': [{'name': 'df',\n",
       "     'node_id': '0841cef9-03b3-4dc8-bc01-9360e7d7f36e',\n",
       "     'output_name': 'default'}],\n",
       "   'outputs': [{'name': 'default'}]},\n",
       "  {'node_id': '9871838e-bc08-4377-ae70-d1b13c4044c4',\n",
       "   'type': 'TRANSFORM',\n",
       "   'operator': 'sagemaker.spark.join_tables_0.1',\n",
       "   'parameters': {'left_column': 'trackId',\n",
       "    'right_column': 'trackId',\n",
       "    'join_type': 'inner'},\n",
       "   'inputs': [{'name': 'df',\n",
       "     'node_id': 'd0d4f05a-3031-4438-867b-c5fd033d6c15',\n",
       "     'output_name': 'default'},\n",
       "    {'name': 'df',\n",
       "     'node_id': '8b7e0be2-7b25-4c06-82eb-c0547efebf67',\n",
       "     'output_name': 'default'}],\n",
       "   'outputs': [{'name': 'default'}]},\n",
       "  {'node_id': '012229da-d789-4b90-a5cc-7f28c8bdbe58',\n",
       "   'type': 'TRANSFORM',\n",
       "   'operator': 'sagemaker.spark.manage_columns_0.1',\n",
       "   'parameters': {'operator': 'Drop column',\n",
       "    'drop_column_parameters': {'column_to_drop': 'trackId_1'}},\n",
       "   'inputs': [{'name': 'df',\n",
       "     'node_id': '9871838e-bc08-4377-ae70-d1b13c4044c4',\n",
       "     'output_name': 'default'}],\n",
       "   'outputs': [{'name': 'default'}]},\n",
       "  {'node_id': '65a4a88c-f641-4d03-a955-18d368a15ba7',\n",
       "   'type': 'TRANSFORM',\n",
       "   'operator': 'sagemaker.spark.manage_columns_0.1',\n",
       "   'parameters': {'operator': 'Rename column',\n",
       "    'rename_column_parameters': {'input_column': 'trackId_0',\n",
       "     'new_name': 'trackId'},\n",
       "    'drop_column_parameters': {}},\n",
       "   'inputs': [{'name': 'df',\n",
       "     'node_id': '012229da-d789-4b90-a5cc-7f28c8bdbe58',\n",
       "     'output_name': 'default'}],\n",
       "   'outputs': [{'name': 'default'}]},\n",
       "  {'node_id': '1be17c81-e08d-477e-8fc2-574dfd321c99',\n",
       "   'type': 'TRANSFORM',\n",
       "   'operator': 'sagemaker.spark.custom_pyspark_0.1',\n",
       "   'parameters': {'code': '# Table is available as variable `df`\\nimport pyspark.sql.functions as F\\n\\n# numeric features\\nnum_feat_cols = [\\'energy\\', \\'acousticness\\', \\'valence\\', \\'speechiness\\', \\'instrumentalness\\', \\'liveness\\', \\'tempo\\', \\'danceability\\', \\'genre_Latin\\', \\'genre_Folk\\',  \\'genre_Blues\\', \\'genre_Rap\\', \\'genre_Reggae\\', \\'genre_Jazz\\', \\'genre_RnB\\', \\'genre_Country\\', \\'genre_Electronic\\', \\'genre_Pop_Rock\\']\\n\\n# calculate averages for 5-star ratings\\nagg_obj = [F.avg(feat_col).alias(feat_col+\"_5star\") for feat_col in num_feat_cols]\\ndf = df.filter(F.col(\\'Rating\\')==5).groupBy(\\'userId\\').agg(*agg_obj)\\ndf = df.withColumn(\\'featureTimestamp\\', F.unix_timestamp(F.current_timestamp()))'},\n",
       "   'inputs': [{'name': 'df',\n",
       "     'node_id': '65a4a88c-f641-4d03-a955-18d368a15ba7',\n",
       "     'output_name': 'default'}],\n",
       "   'outputs': [{'name': 'default'}]},\n",
       "  {'node_id': '3098f603-08d2-4319-83f5-55f509eeab60',\n",
       "   'type': 'TRANSFORM',\n",
       "   'operator': 'sagemaker.spark.cast_single_data_type_0.1',\n",
       "   'parameters': {'column': 'featureTimestamp',\n",
       "    'original_data_type': 'Long',\n",
       "    'data_type': 'float'},\n",
       "   'inputs': [{'name': 'df',\n",
       "     'node_id': '1be17c81-e08d-477e-8fc2-574dfd321c99',\n",
       "     'output_name': 'default'}],\n",
       "   'outputs': [{'name': 'default'}]}]}"
      ]
     },
     "execution_count": 10,
     "metadata": {},
     "output_type": "execute_result"
    }
   ],
   "source": [
    "update_data_sources('01_music_dataprep.flow', tracks_data_source, ratings_data_source)"
   ]
  },
  {
   "cell_type": "markdown",
   "metadata": {},
   "source": [
    "<a id='explore-data'></a>\n",
    "\n",
    "## Explore the Data\n",
    "##### [back to top](#00-nb)\n",
    "----"
   ]
  },
  {
   "cell_type": "code",
   "execution_count": 11,
   "metadata": {},
   "outputs": [],
   "source": [
    "tracks = pd.read_csv('./tracks.csv')\n",
    "ratings = pd.read_csv('./ratings.csv')"
   ]
  },
  {
   "cell_type": "code",
   "execution_count": 12,
   "metadata": {},
   "outputs": [
    {
     "data": {
      "text/html": [
       "<div>\n",
       "<style scoped>\n",
       "    .dataframe tbody tr th:only-of-type {\n",
       "        vertical-align: middle;\n",
       "    }\n",
       "\n",
       "    .dataframe tbody tr th {\n",
       "        vertical-align: top;\n",
       "    }\n",
       "\n",
       "    .dataframe thead th {\n",
       "        text-align: right;\n",
       "    }\n",
       "</style>\n",
       "<table border=\"1\" class=\"dataframe\">\n",
       "  <thead>\n",
       "    <tr style=\"text-align: right;\">\n",
       "      <th></th>\n",
       "      <th>trackId</th>\n",
       "      <th>length</th>\n",
       "      <th>energy</th>\n",
       "      <th>acousticness</th>\n",
       "      <th>valence</th>\n",
       "      <th>speechiness</th>\n",
       "      <th>instrumentalness</th>\n",
       "      <th>liveness</th>\n",
       "      <th>tempo</th>\n",
       "      <th>genre</th>\n",
       "    </tr>\n",
       "  </thead>\n",
       "  <tbody>\n",
       "    <tr>\n",
       "      <th>0</th>\n",
       "      <td>d52745ac-05f2-4d51-be51-62e7fbbed61c</td>\n",
       "      <td>383.0</td>\n",
       "      <td>0.882559</td>\n",
       "      <td>0.077348</td>\n",
       "      <td>0.834408</td>\n",
       "      <td>0.118940</td>\n",
       "      <td>0.054557</td>\n",
       "      <td>0.037616</td>\n",
       "      <td>170.164645</td>\n",
       "      <td>Pop_Rock</td>\n",
       "    </tr>\n",
       "    <tr>\n",
       "      <th>1</th>\n",
       "      <td>f9e37639-64fd-4e2c-97c2-13649df58868</td>\n",
       "      <td>179.0</td>\n",
       "      <td>0.555357</td>\n",
       "      <td>0.494803</td>\n",
       "      <td>0.699073</td>\n",
       "      <td>0.053292</td>\n",
       "      <td>0.000000</td>\n",
       "      <td>0.224911</td>\n",
       "      <td>119.618149</td>\n",
       "      <td>RnB</td>\n",
       "    </tr>\n",
       "    <tr>\n",
       "      <th>2</th>\n",
       "      <td>f8348ab0-e356-4bc0-b7d4-8704ae2d7c76</td>\n",
       "      <td>166.0</td>\n",
       "      <td>0.420066</td>\n",
       "      <td>0.769902</td>\n",
       "      <td>0.198496</td>\n",
       "      <td>0.022800</td>\n",
       "      <td>0.814083</td>\n",
       "      <td>0.118941</td>\n",
       "      <td>111.729093</td>\n",
       "      <td>Reggae</td>\n",
       "    </tr>\n",
       "    <tr>\n",
       "      <th>3</th>\n",
       "      <td>aa263491-70d5-4029-8e2a-6c43a4260c7a</td>\n",
       "      <td>214.0</td>\n",
       "      <td>0.390868</td>\n",
       "      <td>0.039935</td>\n",
       "      <td>0.701946</td>\n",
       "      <td>0.022800</td>\n",
       "      <td>0.043960</td>\n",
       "      <td>0.155141</td>\n",
       "      <td>119.848188</td>\n",
       "      <td>Electronic</td>\n",
       "    </tr>\n",
       "    <tr>\n",
       "      <th>4</th>\n",
       "      <td>eb357cca-4fd6-4d17-98e4-c210956807e9</td>\n",
       "      <td>48.0</td>\n",
       "      <td>0.277757</td>\n",
       "      <td>0.705137</td>\n",
       "      <td>0.037227</td>\n",
       "      <td>0.045960</td>\n",
       "      <td>0.570176</td>\n",
       "      <td>0.097591</td>\n",
       "      <td>101.396837</td>\n",
       "      <td>Folk</td>\n",
       "    </tr>\n",
       "  </tbody>\n",
       "</table>\n",
       "</div>"
      ],
      "text/plain": [
       "                                trackId  length    energy  acousticness  \\\n",
       "0  d52745ac-05f2-4d51-be51-62e7fbbed61c   383.0  0.882559      0.077348   \n",
       "1  f9e37639-64fd-4e2c-97c2-13649df58868   179.0  0.555357      0.494803   \n",
       "2  f8348ab0-e356-4bc0-b7d4-8704ae2d7c76   166.0  0.420066      0.769902   \n",
       "3  aa263491-70d5-4029-8e2a-6c43a4260c7a   214.0  0.390868      0.039935   \n",
       "4  eb357cca-4fd6-4d17-98e4-c210956807e9    48.0  0.277757      0.705137   \n",
       "\n",
       "    valence  speechiness  instrumentalness  liveness       tempo       genre  \n",
       "0  0.834408     0.118940          0.054557  0.037616  170.164645    Pop_Rock  \n",
       "1  0.699073     0.053292          0.000000  0.224911  119.618149         RnB  \n",
       "2  0.198496     0.022800          0.814083  0.118941  111.729093      Reggae  \n",
       "3  0.701946     0.022800          0.043960  0.155141  119.848188  Electronic  \n",
       "4  0.037227     0.045960          0.570176  0.097591  101.396837        Folk  "
      ]
     },
     "execution_count": 12,
     "metadata": {},
     "output_type": "execute_result"
    }
   ],
   "source": [
    "tracks.head()"
   ]
  },
  {
   "cell_type": "code",
   "execution_count": 13,
   "metadata": {},
   "outputs": [
    {
     "data": {
      "text/html": [
       "<div>\n",
       "<style scoped>\n",
       "    .dataframe tbody tr th:only-of-type {\n",
       "        vertical-align: middle;\n",
       "    }\n",
       "\n",
       "    .dataframe tbody tr th {\n",
       "        vertical-align: top;\n",
       "    }\n",
       "\n",
       "    .dataframe thead th {\n",
       "        text-align: right;\n",
       "    }\n",
       "</style>\n",
       "<table border=\"1\" class=\"dataframe\">\n",
       "  <thead>\n",
       "    <tr style=\"text-align: right;\">\n",
       "      <th></th>\n",
       "      <th>ratingEventId</th>\n",
       "      <th>ts</th>\n",
       "      <th>userId</th>\n",
       "      <th>trackId</th>\n",
       "      <th>sessionId</th>\n",
       "      <th>itemInSession</th>\n",
       "      <th>Rating</th>\n",
       "    </tr>\n",
       "  </thead>\n",
       "  <tbody>\n",
       "    <tr>\n",
       "      <th>0</th>\n",
       "      <td>a2cfe1df-07d6-4a02-b425-450416133fe5</td>\n",
       "      <td>1572259532</td>\n",
       "      <td>11001</td>\n",
       "      <td>d52745ac-05f2-4d51-be51-62e7fbbed61c</td>\n",
       "      <td>464</td>\n",
       "      <td>31</td>\n",
       "      <td>5.0</td>\n",
       "    </tr>\n",
       "    <tr>\n",
       "      <th>1</th>\n",
       "      <td>50720dd3-ce99-4ddb-858a-88ba934a6293</td>\n",
       "      <td>1572259915</td>\n",
       "      <td>11001</td>\n",
       "      <td>f9e37639-64fd-4e2c-97c2-13649df58868</td>\n",
       "      <td>464</td>\n",
       "      <td>33</td>\n",
       "      <td>3.0</td>\n",
       "    </tr>\n",
       "    <tr>\n",
       "      <th>2</th>\n",
       "      <td>60a2ca19-d011-4cb8-ab8b-e9034adb4ed4</td>\n",
       "      <td>1572260094</td>\n",
       "      <td>11001</td>\n",
       "      <td>f8348ab0-e356-4bc0-b7d4-8704ae2d7c76</td>\n",
       "      <td>464</td>\n",
       "      <td>34</td>\n",
       "      <td>1.0</td>\n",
       "    </tr>\n",
       "    <tr>\n",
       "      <th>3</th>\n",
       "      <td>d1cc85da-7230-41ef-9e08-4507d86844ba</td>\n",
       "      <td>1572260260</td>\n",
       "      <td>11001</td>\n",
       "      <td>aa263491-70d5-4029-8e2a-6c43a4260c7a</td>\n",
       "      <td>464</td>\n",
       "      <td>35</td>\n",
       "      <td>5.0</td>\n",
       "    </tr>\n",
       "    <tr>\n",
       "      <th>4</th>\n",
       "      <td>3013f369-5e32-4745-984a-833c34193cc9</td>\n",
       "      <td>1572260474</td>\n",
       "      <td>11001</td>\n",
       "      <td>eb357cca-4fd6-4d17-98e4-c210956807e9</td>\n",
       "      <td>464</td>\n",
       "      <td>36</td>\n",
       "      <td>1.0</td>\n",
       "    </tr>\n",
       "  </tbody>\n",
       "</table>\n",
       "</div>"
      ],
      "text/plain": [
       "                          ratingEventId          ts  userId  \\\n",
       "0  a2cfe1df-07d6-4a02-b425-450416133fe5  1572259532   11001   \n",
       "1  50720dd3-ce99-4ddb-858a-88ba934a6293  1572259915   11001   \n",
       "2  60a2ca19-d011-4cb8-ab8b-e9034adb4ed4  1572260094   11001   \n",
       "3  d1cc85da-7230-41ef-9e08-4507d86844ba  1572260260   11001   \n",
       "4  3013f369-5e32-4745-984a-833c34193cc9  1572260474   11001   \n",
       "\n",
       "                                trackId  sessionId  itemInSession  Rating  \n",
       "0  d52745ac-05f2-4d51-be51-62e7fbbed61c        464             31     5.0  \n",
       "1  f9e37639-64fd-4e2c-97c2-13649df58868        464             33     3.0  \n",
       "2  f8348ab0-e356-4bc0-b7d4-8704ae2d7c76        464             34     1.0  \n",
       "3  aa263491-70d5-4029-8e2a-6c43a4260c7a        464             35     5.0  \n",
       "4  eb357cca-4fd6-4d17-98e4-c210956807e9        464             36     1.0  "
      ]
     },
     "execution_count": 13,
     "metadata": {},
     "output_type": "execute_result"
    }
   ],
   "source": [
    "ratings.head()"
   ]
  },
  {
   "cell_type": "code",
   "execution_count": 14,
   "metadata": {},
   "outputs": [
    {
     "name": "stdout",
     "output_type": "stream",
     "text": [
      "200,000 different songs/tracks\n",
      "258 users\n",
      "1,000,000 user rating events\n"
     ]
    }
   ],
   "source": [
    "print(\"{:,} different songs/tracks\".format(tracks['trackId'].nunique()))\n",
    "print(\"{:,} users\".format(ratings['userId'].nunique()))\n",
    "print(\"{:,} user rating events\".format(ratings['ratingEventId'].nunique()))"
   ]
  },
  {
   "cell_type": "code",
   "execution_count": 15,
   "metadata": {},
   "outputs": [
    {
     "data": {
      "image/png": "[encoded data removed]",
      "text/plain": [
       "<Figure size 432x288 with 1 Axes>"
      ]
     },
     "metadata": {
      "needs_background": "light"
     },
     "output_type": "display_data"
    }
   ],
   "source": [
    "tracks.groupby('genre')['genre'].count().plot.bar(title=\"Tracks by Genre\");"
   ]
  },
  {
   "cell_type": "code",
   "execution_count": 16,
   "metadata": {},
   "outputs": [
    {
     "data": {
      "image/png": "[encoded data removed]",
      "text/plain": [
       "<Figure size 432x288 with 1 Axes>"
      ]
     },
     "metadata": {
      "needs_background": "light"
     },
     "output_type": "display_data"
    }
   ],
   "source": [
    "ratings[['ratingEventId','userId']].plot.hist(by='userId', bins=50, title=\"Distribution of # of Ratings by User\");"
   ]
  },
  {
   "cell_type": "code",
   "execution_count": 17,
   "metadata": {},
   "outputs": [
    {
     "name": "stdout",
     "output_type": "stream",
     "text": [
      "<class 'AttributeError'>\n",
      "(\"'ParameterStore' object has no attribute 'namespace'\",)\n",
      "'ParameterStore' object has no attribute 'namespace'\n"
     ]
    }
   ],
   "source": [
    "params = ps.read('music-rec')"
   ]
  },
  {
   "cell_type": "code",
   "execution_count": 18,
   "metadata": {},
   "outputs": [
    {
     "name": "stdout",
     "output_type": "stream",
     "text": [
      "Storing : \n",
      "\n",
      "{'music-rec': {'bucket': 'sagemaker-us-west-2-738335684114',\n",
      "               'model_path': 's://sagemaker-us-west-2-738335684114/music-recommendation/model.tar.gz',\n",
      "               'prefix': 'music-recommendation',\n",
      "               'ratings_data_source': 's3://sagemaker-us-west-2-738335684114/music-recommendation/ratings.csv',\n",
      "               'tracks_data_source': 's3://sagemaker-us-west-2-738335684114/music-recommendation/tracks.csv'}}\n"
     ]
    }
   ],
   "source": [
    "ps.store()"
   ]
  },
  {
   "cell_type": "code",
   "execution_count": null,
   "metadata": {},
   "outputs": [],
   "source": []
  }
 ],
 "metadata": {
  "instance_type": "ml.t3.medium",
  "kernelspec": {
   "display_name": "Python 3 (Data Science)",
   "language": "python",
   "name": "python3__SAGEMAKER_INTERNAL__arn:aws:sagemaker:us-west-2:236514542706:image/datascience-1.0"
  },
  "language_info": {
   "codemirror_mode": {
    "name": "ipython",
    "version": 3
   },
   "file_extension": ".py",
   "mimetype": "text/x-python",
   "name": "python",
   "nbconvert_exporter": "python",
   "pygments_lexer": "ipython3",
   "version": "3.7.10"
  }
 },
 "nbformat": 4,
 "nbformat_minor": 4
}
